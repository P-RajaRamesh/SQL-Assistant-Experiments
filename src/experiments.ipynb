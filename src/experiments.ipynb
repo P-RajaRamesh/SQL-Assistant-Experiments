{
 "cells": [
  {
   "cell_type": "code",
   "execution_count": 2,
   "id": "2a913b10",
   "metadata": {},
   "outputs": [],
   "source": [
    "from langchain_community.document_loaders import PyPDFDirectoryLoader"
   ]
  },
  {
   "cell_type": "code",
   "execution_count": 3,
   "id": "b5132fb3",
   "metadata": {},
   "outputs": [
    {
     "data": {
      "text/plain": [
       "[Document(metadata={'producer': 'PyFPDF 1.7.2 http://pyfpdf.googlecode.com/', 'creator': 'PyPDF', 'creationdate': 'D:20250419123113', 'title': 'Healthcare Schema with SQL', 'source': 'D:\\\\Interview\\\\SQL-Assistant-Experiments\\\\data\\\\Healthcare_Combined_Schema_final.pdf', 'total_pages': 3, 'page': 0, 'page_label': '1'}, page_content='Table: Doctors\\nThe Doctors table stores information about healthcare professionals. Each doctor has a unique ID, along with\\npersonal details such as first name, last name, date of birth, gender, contact number, and email address.\\nCREATE TABLE Doctors (\\n    doctor_id INT PRIMARY KEY,\\n    first_name VARCHAR(50),\\n    last_name VARCHAR(50),\\n    dob DATE,\\n    gender VARCHAR(10),\\n    phone_number VARCHAR(15),\\n    email VARCHAR(100)\\n);\\nTable: Doctor_Licenses\\nThe Doctor_Licenses table records licensing information for each doctor. It includes a unique license ID, the\\nassociated doctor ID, license number, issue and expiry dates, and the name of the issuing authority.\\nCREATE TABLE Doctor_Licenses (\\n    license_id INT PRIMARY KEY,\\n    doctor_id INT,\\n    license_number VARCHAR(50),\\n    issue_date DATE,\\n    expiry_date DATE,\\n    issuing_authority VARCHAR(100),\\n    FOREIGN KEY (doctor_id) REFERENCES Doctors(doctor_id)\\n);\\nTable: Specializations\\nThe Specializations table contains a list of medical specialization areas such as Cardiology or Neurology.\\nEach entry includes a unique specialization ID, a name, and a description.\\nCREATE TABLE Specializations (\\n    specialization_id INT PRIMARY KEY,\\n    name VARCHAR(100),\\n    description TEXT\\n);\\nTable: Doctor_Specializations\\nThe Doctor_Specializations table defines a many-to-many relationship between doctors and their\\nspecializations using doctor IDs and specialization IDs.\\nCREATE TABLE Doctor_Specializations (\\n    doctor_id INT,\\n    specialization_id INT,'),\n",
       " Document(metadata={'producer': 'PyFPDF 1.7.2 http://pyfpdf.googlecode.com/', 'creator': 'PyPDF', 'creationdate': 'D:20250419123113', 'title': 'Healthcare Schema with SQL', 'source': 'D:\\\\Interview\\\\SQL-Assistant-Experiments\\\\data\\\\Healthcare_Combined_Schema_final.pdf', 'total_pages': 3, 'page': 1, 'page_label': '2'}, page_content='PRIMARY KEY (doctor_id, specialization_id),\\n    FOREIGN KEY (doctor_id) REFERENCES Doctors(doctor_id),\\n    FOREIGN KEY (specialization_id) REFERENCES Specializations(specialization_id)\\n);\\nTable: Hospitals\\nThe Hospitals table keeps track of different hospital entities. It includes a unique hospital ID, name, address,\\ncontact number, and website URL.\\nCREATE TABLE Hospitals (\\n    hospital_id INT PRIMARY KEY,\\n    name VARCHAR(100),\\n    address TEXT,\\n    phone_number VARCHAR(15),\\n    website_url VARCHAR(100)\\n);\\nTable: Departments\\nThe Departments table represents various departments within hospitals. Each department has a unique ID\\nand is linked to a hospital. It also includes the department name and the floor number it is located on.\\nCREATE TABLE Departments (\\n    department_id INT PRIMARY KEY,\\n    hospital_id INT,\\n    name VARCHAR(100),\\n    floor_number INT,\\n    FOREIGN KEY (hospital_id) REFERENCES Hospitals(hospital_id)\\n);\\nTable: Doctor_Hospital_Assignments\\nThis table manages the relationship between doctors and the hospitals they work in. It stores the doctor ID,\\nhospital ID, department ID, and the start and end dates of the assignment.\\nCREATE TABLE Doctor_Hospital_Assignments (\\n    doctor_id INT,\\n    hospital_id INT,\\n    department_id INT,\\n    start_date DATE,\\n    end_date DATE,\\n    PRIMARY KEY (doctor_id, hospital_id, department_id),\\n    FOREIGN KEY (doctor_id) REFERENCES Doctors(doctor_id),\\n    FOREIGN KEY (hospital_id) REFERENCES Hospitals(hospital_id),\\n    FOREIGN KEY (department_id) REFERENCES Departments(department_id)\\n);'),\n",
       " Document(metadata={'producer': 'PyFPDF 1.7.2 http://pyfpdf.googlecode.com/', 'creator': 'PyPDF', 'creationdate': 'D:20250419123113', 'title': 'Healthcare Schema with SQL', 'source': 'D:\\\\Interview\\\\SQL-Assistant-Experiments\\\\data\\\\Healthcare_Combined_Schema_final.pdf', 'total_pages': 3, 'page': 2, 'page_label': '3'}, page_content='Table: Patients\\nThe Patients table stores personal details of patients including a unique patient ID, name, date of birth,\\ngender, contact number, and email address.\\nCREATE TABLE Patients (\\n    patient_id INT PRIMARY KEY,\\n    first_name VARCHAR(50),\\n    last_name VARCHAR(50),\\n    dob DATE,\\n    gender VARCHAR(10),\\n    contact_number VARCHAR(15),\\n    email VARCHAR(100)\\n);\\nTable: Appointments\\nThe Appointments table logs each appointment scheduled between a doctor and a patient. It includes\\nappointment ID, doctor ID, patient ID, hospital ID, date and time of the appointment, reason for visit, and\\nappointment status.\\nCREATE TABLE Appointments (\\n    appointment_id INT PRIMARY KEY,\\n    doctor_id INT,\\n    patient_id INT,\\n    hospital_id INT,\\n    appointment_date DATETIME,\\n    reason TEXT,\\n    status VARCHAR(20),\\n    FOREIGN KEY (doctor_id) REFERENCES Doctors(doctor_id),\\n    FOREIGN KEY (patient_id) REFERENCES Patients(patient_id),\\n    FOREIGN KEY (hospital_id) REFERENCES Hospitals(hospital_id)\\n);'),\n",
       " Document(metadata={'producer': 'PyFPDF 1.7.2 http://pyfpdf.googlecode.com/', 'creator': 'PyPDF', 'creationdate': 'D:20250419122146', 'source': 'D:\\\\Interview\\\\SQL-Assistant-Experiments\\\\data\\\\Healthcare_Service_Requests_SchemaAligned.pdf', 'total_pages': 4, 'page': 0, 'page_label': '1'}, page_content=\"Healthcare Service Requests - Backend SQL Updates (Schema-Aligned)\\nSR-1001: This is a data correction where the task is to 'Correct dob for doctor_id 201 in the Doctors table.'\\nThe corresponding SQL is: UPDATE Doctors SET dob = TO_DATE('1980-01-2', 'YYYY-MM-DD') WHERE\\ndoctor_id = 201;\\nSR-1002: This is a data update where the task is to 'Update incorrect phone_number for patient_id 1002 in\\nthe Patients table.' The corresponding SQL is: UPDATE Patients SET phone_number = '+91-999999992'\\nWHERE patient_id = 1002;\\nSR-1003: This is a report request where the task is to 'Generate a report using data from the Appointments\\ntable for hospital_id 4.' The corresponding SQL is: SELECT * FROM Appointments WHERE hospital_id = 4;\\nSR-1004: This is a data update where the task is to 'Update incorrect phone_number for patient_id 1004 in\\nthe Patients table.' The corresponding SQL is: UPDATE Patients SET phone_number = '+91-999999994'\\nWHERE patient_id = 1004;\\nSR-1005: This is a data correction where the task is to 'Correct dob for doctor_id 205 in the Doctors table.'\\nThe corresponding SQL is: UPDATE Doctors SET dob = TO_DATE('1980-01-6', 'YYYY-MM-DD') WHERE\\ndoctor_id = 205;\\nSR-1006: This is a report request where the task is to 'Generate a report using data from the Appointments\\ntable for hospital_id 2.' The corresponding SQL is: SELECT * FROM Appointments WHERE hospital_id = 2;\\nSR-1007: This is a data correction where the task is to 'Correct dob for doctor_id 207 in the Doctors table.'\\nThe corresponding SQL is: UPDATE Doctors SET dob = TO_DATE('1980-01-8', 'YYYY-MM-DD') WHERE\\ndoctor_id = 207;\\nSR-1008: This is a data update where the task is to 'Update incorrect phone_number for patient_id 1008 in\\nthe Patients table.' The corresponding SQL is: UPDATE Patients SET phone_number = '+91-999999998'\\nWHERE patient_id = 1008;\\nSR-1009: This is a report request where the task is to 'Generate a report using data from the Appointments\\ntable for hospital_id 5.' The corresponding SQL is: SELECT * FROM Appointments WHERE hospital_id = 5;\"),\n",
       " Document(metadata={'producer': 'PyFPDF 1.7.2 http://pyfpdf.googlecode.com/', 'creator': 'PyPDF', 'creationdate': 'D:20250419122146', 'source': 'D:\\\\Interview\\\\SQL-Assistant-Experiments\\\\data\\\\Healthcare_Service_Requests_SchemaAligned.pdf', 'total_pages': 4, 'page': 1, 'page_label': '2'}, page_content=\"SR-1010: This is a data update where the task is to 'Update incorrect phone_number for patient_id 1010 in\\nthe Patients table.' The corresponding SQL is: UPDATE Patients SET phone_number = '+91-999999990'\\nWHERE patient_id = 1010;\\nSR-1011: This is a data correction where the task is to 'Correct dob for doctor_id 211 in the Doctors table.'\\nThe corresponding SQL is: UPDATE Doctors SET dob = TO_DATE('1980-01-12', 'YYYY-MM-DD') WHERE\\ndoctor_id = 211;\\nSR-1012: This is a report request where the task is to 'Generate a report using data from the Appointments\\ntable for hospital_id 3.' The corresponding SQL is: SELECT * FROM Appointments WHERE hospital_id = 3;\\nSR-1013: This is a data correction where the task is to 'Correct dob for doctor_id 213 in the Doctors table.'\\nThe corresponding SQL is: UPDATE Doctors SET dob = TO_DATE('1980-01-14', 'YYYY-MM-DD') WHERE\\ndoctor_id = 213;\\nSR-1014: This is a data update where the task is to 'Update incorrect phone_number for patient_id 1014 in\\nthe Patients table.' The corresponding SQL is: UPDATE Patients SET phone_number = '+91-999999994'\\nWHERE patient_id = 1014;\\nSR-1015: This is a report request where the task is to 'Generate a report using data from the Appointments\\ntable for hospital_id 1.' The corresponding SQL is: SELECT * FROM Appointments WHERE hospital_id = 1;\\nSR-1016: This is a data update where the task is to 'Update incorrect phone_number for patient_id 1016 in\\nthe Patients table.' The corresponding SQL is: UPDATE Patients SET phone_number = '+91-999999996'\\nWHERE patient_id = 1016;\\nSR-1017: This is a data correction where the task is to 'Correct dob for doctor_id 217 in the Doctors table.'\\nThe corresponding SQL is: UPDATE Doctors SET dob = TO_DATE('1980-01-18', 'YYYY-MM-DD') WHERE\\ndoctor_id = 217;\\nSR-1018: This is a report request where the task is to 'Generate a report using data from the Appointments\\ntable for hospital_id 4.' The corresponding SQL is: SELECT * FROM Appointments WHERE hospital_id = 4;\\nSR-1019: This is a data correction where the task is to 'Correct dob for doctor_id 219 in the Doctors table.'\\nThe corresponding SQL is: UPDATE Doctors SET dob = TO_DATE('1980-01-20', 'YYYY-MM-DD') WHERE\\ndoctor_id = 219;\"),\n",
       " Document(metadata={'producer': 'PyFPDF 1.7.2 http://pyfpdf.googlecode.com/', 'creator': 'PyPDF', 'creationdate': 'D:20250419122146', 'source': 'D:\\\\Interview\\\\SQL-Assistant-Experiments\\\\data\\\\Healthcare_Service_Requests_SchemaAligned.pdf', 'total_pages': 4, 'page': 2, 'page_label': '3'}, page_content=\"SR-1020: This is a data update where the task is to 'Update incorrect phone_number for patient_id 1020 in\\nthe Patients table.' The corresponding SQL is: UPDATE Patients SET phone_number = '+91-999999990'\\nWHERE patient_id = 1020;\\nSR-1021: This is a report request where the task is to 'Generate a report using data from the Appointments\\ntable for hospital_id 2.' The corresponding SQL is: SELECT * FROM Appointments WHERE hospital_id = 2;\\nSR-1022: This is a data update where the task is to 'Update incorrect phone_number for patient_id 1022 in\\nthe Patients table.' The corresponding SQL is: UPDATE Patients SET phone_number = '+91-999999992'\\nWHERE patient_id = 1022;\\nSR-1023: This is a data correction where the task is to 'Correct dob for doctor_id 223 in the Doctors table.'\\nThe corresponding SQL is: UPDATE Doctors SET dob = TO_DATE('1980-01-24', 'YYYY-MM-DD') WHERE\\ndoctor_id = 223;\\nSR-1024: This is a report request where the task is to 'Generate a report using data from the Appointments\\ntable for hospital_id 5.' The corresponding SQL is: SELECT * FROM Appointments WHERE hospital_id = 5;\\nSR-1025: This is a data correction where the task is to 'Correct dob for doctor_id 225 in the Doctors table.'\\nThe corresponding SQL is: UPDATE Doctors SET dob = TO_DATE('1980-01-26', 'YYYY-MM-DD') WHERE\\ndoctor_id = 225;\\nSR-1026: This is a data update where the task is to 'Update incorrect phone_number for patient_id 1026 in\\nthe Patients table.' The corresponding SQL is: UPDATE Patients SET phone_number = '+91-999999996'\\nWHERE patient_id = 1026;\\nSR-1027: This is a report request where the task is to 'Generate a report using data from the Appointments\\ntable for hospital_id 3.' The corresponding SQL is: SELECT * FROM Appointments WHERE hospital_id = 3;\\nSR-1028: This is a data update where the task is to 'Update incorrect phone_number for patient_id 1028 in\\nthe Patients table.' The corresponding SQL is: UPDATE Patients SET phone_number = '+91-999999998'\\nWHERE patient_id = 1028;\\nSR-1029: This is a data correction where the task is to 'Correct dob for doctor_id 229 in the Doctors table.'\\nThe corresponding SQL is: UPDATE Doctors SET dob = TO_DATE('1980-01-2', 'YYYY-MM-DD') WHERE\"),\n",
       " Document(metadata={'producer': 'PyFPDF 1.7.2 http://pyfpdf.googlecode.com/', 'creator': 'PyPDF', 'creationdate': 'D:20250419122146', 'source': 'D:\\\\Interview\\\\SQL-Assistant-Experiments\\\\data\\\\Healthcare_Service_Requests_SchemaAligned.pdf', 'total_pages': 4, 'page': 3, 'page_label': '4'}, page_content=\"doctor_id = 229;\\nSR-1030: This is a report request where the task is to 'Generate a report using data from the Appointments\\ntable for hospital_id 1.' The corresponding SQL is: SELECT * FROM Appointments WHERE hospital_id = 1;\")]"
      ]
     },
     "execution_count": 3,
     "metadata": {},
     "output_type": "execute_result"
    }
   ],
   "source": [
    "loader=PyPDFDirectoryLoader(\"D:\\Interview\\SQL-Assistant-Experiments\\data\")\n",
    "docs = loader.load()\n",
    "docs"
   ]
  },
  {
   "cell_type": "code",
   "execution_count": 4,
   "id": "52d7de94",
   "metadata": {},
   "outputs": [],
   "source": [
    "from langchain.text_splitter import RecursiveCharacterTextSplitter\n",
    "text_splitter = RecursiveCharacterTextSplitter(\n",
    "    chunk_size=500,\n",
    "    chunk_overlap=100,\n",
    "    is_separator_regex=False,\n",
    ")"
   ]
  },
  {
   "cell_type": "code",
   "execution_count": 5,
   "id": "b985c8a6",
   "metadata": {},
   "outputs": [],
   "source": [
    "documents=text_splitter.split_documents(docs)"
   ]
  },
  {
   "cell_type": "code",
   "execution_count": 6,
   "id": "47b856ea",
   "metadata": {},
   "outputs": [
    {
     "data": {
      "text/plain": [
       "[Document(metadata={'producer': 'PyFPDF 1.7.2 http://pyfpdf.googlecode.com/', 'creator': 'PyPDF', 'creationdate': 'D:20250419123113', 'title': 'Healthcare Schema with SQL', 'source': 'D:\\\\Interview\\\\SQL-Assistant-Experiments\\\\data\\\\Healthcare_Combined_Schema_final.pdf', 'total_pages': 3, 'page': 0, 'page_label': '1'}, page_content='Table: Doctors\\nThe Doctors table stores information about healthcare professionals. Each doctor has a unique ID, along with\\npersonal details such as first name, last name, date of birth, gender, contact number, and email address.\\nCREATE TABLE Doctors (\\n    doctor_id INT PRIMARY KEY,\\n    first_name VARCHAR(50),\\n    last_name VARCHAR(50),\\n    dob DATE,\\n    gender VARCHAR(10),\\n    phone_number VARCHAR(15),\\n    email VARCHAR(100)\\n);\\nTable: Doctor_Licenses'),\n",
       " Document(metadata={'producer': 'PyFPDF 1.7.2 http://pyfpdf.googlecode.com/', 'creator': 'PyPDF', 'creationdate': 'D:20250419123113', 'title': 'Healthcare Schema with SQL', 'source': 'D:\\\\Interview\\\\SQL-Assistant-Experiments\\\\data\\\\Healthcare_Combined_Schema_final.pdf', 'total_pages': 3, 'page': 0, 'page_label': '1'}, page_content='phone_number VARCHAR(15),\\n    email VARCHAR(100)\\n);\\nTable: Doctor_Licenses\\nThe Doctor_Licenses table records licensing information for each doctor. It includes a unique license ID, the\\nassociated doctor ID, license number, issue and expiry dates, and the name of the issuing authority.\\nCREATE TABLE Doctor_Licenses (\\n    license_id INT PRIMARY KEY,\\n    doctor_id INT,\\n    license_number VARCHAR(50),\\n    issue_date DATE,\\n    expiry_date DATE,\\n    issuing_authority VARCHAR(100),'),\n",
       " Document(metadata={'producer': 'PyFPDF 1.7.2 http://pyfpdf.googlecode.com/', 'creator': 'PyPDF', 'creationdate': 'D:20250419123113', 'title': 'Healthcare Schema with SQL', 'source': 'D:\\\\Interview\\\\SQL-Assistant-Experiments\\\\data\\\\Healthcare_Combined_Schema_final.pdf', 'total_pages': 3, 'page': 0, 'page_label': '1'}, page_content='issue_date DATE,\\n    expiry_date DATE,\\n    issuing_authority VARCHAR(100),\\n    FOREIGN KEY (doctor_id) REFERENCES Doctors(doctor_id)\\n);\\nTable: Specializations\\nThe Specializations table contains a list of medical specialization areas such as Cardiology or Neurology.\\nEach entry includes a unique specialization ID, a name, and a description.\\nCREATE TABLE Specializations (\\n    specialization_id INT PRIMARY KEY,\\n    name VARCHAR(100),\\n    description TEXT\\n);\\nTable: Doctor_Specializations'),\n",
       " Document(metadata={'producer': 'PyFPDF 1.7.2 http://pyfpdf.googlecode.com/', 'creator': 'PyPDF', 'creationdate': 'D:20250419123113', 'title': 'Healthcare Schema with SQL', 'source': 'D:\\\\Interview\\\\SQL-Assistant-Experiments\\\\data\\\\Healthcare_Combined_Schema_final.pdf', 'total_pages': 3, 'page': 0, 'page_label': '1'}, page_content='name VARCHAR(100),\\n    description TEXT\\n);\\nTable: Doctor_Specializations\\nThe Doctor_Specializations table defines a many-to-many relationship between doctors and their\\nspecializations using doctor IDs and specialization IDs.\\nCREATE TABLE Doctor_Specializations (\\n    doctor_id INT,\\n    specialization_id INT,'),\n",
       " Document(metadata={'producer': 'PyFPDF 1.7.2 http://pyfpdf.googlecode.com/', 'creator': 'PyPDF', 'creationdate': 'D:20250419123113', 'title': 'Healthcare Schema with SQL', 'source': 'D:\\\\Interview\\\\SQL-Assistant-Experiments\\\\data\\\\Healthcare_Combined_Schema_final.pdf', 'total_pages': 3, 'page': 1, 'page_label': '2'}, page_content='PRIMARY KEY (doctor_id, specialization_id),\\n    FOREIGN KEY (doctor_id) REFERENCES Doctors(doctor_id),\\n    FOREIGN KEY (specialization_id) REFERENCES Specializations(specialization_id)\\n);\\nTable: Hospitals\\nThe Hospitals table keeps track of different hospital entities. It includes a unique hospital ID, name, address,\\ncontact number, and website URL.\\nCREATE TABLE Hospitals (\\n    hospital_id INT PRIMARY KEY,\\n    name VARCHAR(100),\\n    address TEXT,\\n    phone_number VARCHAR(15),'),\n",
       " Document(metadata={'producer': 'PyFPDF 1.7.2 http://pyfpdf.googlecode.com/', 'creator': 'PyPDF', 'creationdate': 'D:20250419123113', 'title': 'Healthcare Schema with SQL', 'source': 'D:\\\\Interview\\\\SQL-Assistant-Experiments\\\\data\\\\Healthcare_Combined_Schema_final.pdf', 'total_pages': 3, 'page': 1, 'page_label': '2'}, page_content='name VARCHAR(100),\\n    address TEXT,\\n    phone_number VARCHAR(15),\\n    website_url VARCHAR(100)\\n);\\nTable: Departments\\nThe Departments table represents various departments within hospitals. Each department has a unique ID\\nand is linked to a hospital. It also includes the department name and the floor number it is located on.\\nCREATE TABLE Departments (\\n    department_id INT PRIMARY KEY,\\n    hospital_id INT,\\n    name VARCHAR(100),\\n    floor_number INT,'),\n",
       " Document(metadata={'producer': 'PyFPDF 1.7.2 http://pyfpdf.googlecode.com/', 'creator': 'PyPDF', 'creationdate': 'D:20250419123113', 'title': 'Healthcare Schema with SQL', 'source': 'D:\\\\Interview\\\\SQL-Assistant-Experiments\\\\data\\\\Healthcare_Combined_Schema_final.pdf', 'total_pages': 3, 'page': 1, 'page_label': '2'}, page_content='hospital_id INT,\\n    name VARCHAR(100),\\n    floor_number INT,\\n    FOREIGN KEY (hospital_id) REFERENCES Hospitals(hospital_id)\\n);\\nTable: Doctor_Hospital_Assignments\\nThis table manages the relationship between doctors and the hospitals they work in. It stores the doctor ID,\\nhospital ID, department ID, and the start and end dates of the assignment.\\nCREATE TABLE Doctor_Hospital_Assignments (\\n    doctor_id INT,\\n    hospital_id INT,\\n    department_id INT,\\n    start_date DATE,\\n    end_date DATE,'),\n",
       " Document(metadata={'producer': 'PyFPDF 1.7.2 http://pyfpdf.googlecode.com/', 'creator': 'PyPDF', 'creationdate': 'D:20250419123113', 'title': 'Healthcare Schema with SQL', 'source': 'D:\\\\Interview\\\\SQL-Assistant-Experiments\\\\data\\\\Healthcare_Combined_Schema_final.pdf', 'total_pages': 3, 'page': 1, 'page_label': '2'}, page_content='hospital_id INT,\\n    department_id INT,\\n    start_date DATE,\\n    end_date DATE,\\n    PRIMARY KEY (doctor_id, hospital_id, department_id),\\n    FOREIGN KEY (doctor_id) REFERENCES Doctors(doctor_id),\\n    FOREIGN KEY (hospital_id) REFERENCES Hospitals(hospital_id),\\n    FOREIGN KEY (department_id) REFERENCES Departments(department_id)\\n);'),\n",
       " Document(metadata={'producer': 'PyFPDF 1.7.2 http://pyfpdf.googlecode.com/', 'creator': 'PyPDF', 'creationdate': 'D:20250419123113', 'title': 'Healthcare Schema with SQL', 'source': 'D:\\\\Interview\\\\SQL-Assistant-Experiments\\\\data\\\\Healthcare_Combined_Schema_final.pdf', 'total_pages': 3, 'page': 2, 'page_label': '3'}, page_content='Table: Patients\\nThe Patients table stores personal details of patients including a unique patient ID, name, date of birth,\\ngender, contact number, and email address.\\nCREATE TABLE Patients (\\n    patient_id INT PRIMARY KEY,\\n    first_name VARCHAR(50),\\n    last_name VARCHAR(50),\\n    dob DATE,\\n    gender VARCHAR(10),\\n    contact_number VARCHAR(15),\\n    email VARCHAR(100)\\n);\\nTable: Appointments\\nThe Appointments table logs each appointment scheduled between a doctor and a patient. It includes'),\n",
       " Document(metadata={'producer': 'PyFPDF 1.7.2 http://pyfpdf.googlecode.com/', 'creator': 'PyPDF', 'creationdate': 'D:20250419123113', 'title': 'Healthcare Schema with SQL', 'source': 'D:\\\\Interview\\\\SQL-Assistant-Experiments\\\\data\\\\Healthcare_Combined_Schema_final.pdf', 'total_pages': 3, 'page': 2, 'page_label': '3'}, page_content='The Appointments table logs each appointment scheduled between a doctor and a patient. It includes\\nappointment ID, doctor ID, patient ID, hospital ID, date and time of the appointment, reason for visit, and\\nappointment status.\\nCREATE TABLE Appointments (\\n    appointment_id INT PRIMARY KEY,\\n    doctor_id INT,\\n    patient_id INT,\\n    hospital_id INT,\\n    appointment_date DATETIME,\\n    reason TEXT,\\n    status VARCHAR(20),\\n    FOREIGN KEY (doctor_id) REFERENCES Doctors(doctor_id),'),\n",
       " Document(metadata={'producer': 'PyFPDF 1.7.2 http://pyfpdf.googlecode.com/', 'creator': 'PyPDF', 'creationdate': 'D:20250419123113', 'title': 'Healthcare Schema with SQL', 'source': 'D:\\\\Interview\\\\SQL-Assistant-Experiments\\\\data\\\\Healthcare_Combined_Schema_final.pdf', 'total_pages': 3, 'page': 2, 'page_label': '3'}, page_content='reason TEXT,\\n    status VARCHAR(20),\\n    FOREIGN KEY (doctor_id) REFERENCES Doctors(doctor_id),\\n    FOREIGN KEY (patient_id) REFERENCES Patients(patient_id),\\n    FOREIGN KEY (hospital_id) REFERENCES Hospitals(hospital_id)\\n);'),\n",
       " Document(metadata={'producer': 'PyFPDF 1.7.2 http://pyfpdf.googlecode.com/', 'creator': 'PyPDF', 'creationdate': 'D:20250419122146', 'source': 'D:\\\\Interview\\\\SQL-Assistant-Experiments\\\\data\\\\Healthcare_Service_Requests_SchemaAligned.pdf', 'total_pages': 4, 'page': 0, 'page_label': '1'}, page_content=\"Healthcare Service Requests - Backend SQL Updates (Schema-Aligned)\\nSR-1001: This is a data correction where the task is to 'Correct dob for doctor_id 201 in the Doctors table.'\\nThe corresponding SQL is: UPDATE Doctors SET dob = TO_DATE('1980-01-2', 'YYYY-MM-DD') WHERE\\ndoctor_id = 201;\\nSR-1002: This is a data update where the task is to 'Update incorrect phone_number for patient_id 1002 in\\nthe Patients table.' The corresponding SQL is: UPDATE Patients SET phone_number = '+91-999999992'\"),\n",
       " Document(metadata={'producer': 'PyFPDF 1.7.2 http://pyfpdf.googlecode.com/', 'creator': 'PyPDF', 'creationdate': 'D:20250419122146', 'source': 'D:\\\\Interview\\\\SQL-Assistant-Experiments\\\\data\\\\Healthcare_Service_Requests_SchemaAligned.pdf', 'total_pages': 4, 'page': 0, 'page_label': '1'}, page_content=\"the Patients table.' The corresponding SQL is: UPDATE Patients SET phone_number = '+91-999999992'\\nWHERE patient_id = 1002;\\nSR-1003: This is a report request where the task is to 'Generate a report using data from the Appointments\\ntable for hospital_id 4.' The corresponding SQL is: SELECT * FROM Appointments WHERE hospital_id = 4;\\nSR-1004: This is a data update where the task is to 'Update incorrect phone_number for patient_id 1004 in\"),\n",
       " Document(metadata={'producer': 'PyFPDF 1.7.2 http://pyfpdf.googlecode.com/', 'creator': 'PyPDF', 'creationdate': 'D:20250419122146', 'source': 'D:\\\\Interview\\\\SQL-Assistant-Experiments\\\\data\\\\Healthcare_Service_Requests_SchemaAligned.pdf', 'total_pages': 4, 'page': 0, 'page_label': '1'}, page_content=\"the Patients table.' The corresponding SQL is: UPDATE Patients SET phone_number = '+91-999999994'\\nWHERE patient_id = 1004;\\nSR-1005: This is a data correction where the task is to 'Correct dob for doctor_id 205 in the Doctors table.'\\nThe corresponding SQL is: UPDATE Doctors SET dob = TO_DATE('1980-01-6', 'YYYY-MM-DD') WHERE\\ndoctor_id = 205;\\nSR-1006: This is a report request where the task is to 'Generate a report using data from the Appointments\"),\n",
       " Document(metadata={'producer': 'PyFPDF 1.7.2 http://pyfpdf.googlecode.com/', 'creator': 'PyPDF', 'creationdate': 'D:20250419122146', 'source': 'D:\\\\Interview\\\\SQL-Assistant-Experiments\\\\data\\\\Healthcare_Service_Requests_SchemaAligned.pdf', 'total_pages': 4, 'page': 0, 'page_label': '1'}, page_content=\"table for hospital_id 2.' The corresponding SQL is: SELECT * FROM Appointments WHERE hospital_id = 2;\\nSR-1007: This is a data correction where the task is to 'Correct dob for doctor_id 207 in the Doctors table.'\\nThe corresponding SQL is: UPDATE Doctors SET dob = TO_DATE('1980-01-8', 'YYYY-MM-DD') WHERE\\ndoctor_id = 207;\\nSR-1008: This is a data update where the task is to 'Update incorrect phone_number for patient_id 1008 in\"),\n",
       " Document(metadata={'producer': 'PyFPDF 1.7.2 http://pyfpdf.googlecode.com/', 'creator': 'PyPDF', 'creationdate': 'D:20250419122146', 'source': 'D:\\\\Interview\\\\SQL-Assistant-Experiments\\\\data\\\\Healthcare_Service_Requests_SchemaAligned.pdf', 'total_pages': 4, 'page': 0, 'page_label': '1'}, page_content=\"the Patients table.' The corresponding SQL is: UPDATE Patients SET phone_number = '+91-999999998'\\nWHERE patient_id = 1008;\\nSR-1009: This is a report request where the task is to 'Generate a report using data from the Appointments\\ntable for hospital_id 5.' The corresponding SQL is: SELECT * FROM Appointments WHERE hospital_id = 5;\"),\n",
       " Document(metadata={'producer': 'PyFPDF 1.7.2 http://pyfpdf.googlecode.com/', 'creator': 'PyPDF', 'creationdate': 'D:20250419122146', 'source': 'D:\\\\Interview\\\\SQL-Assistant-Experiments\\\\data\\\\Healthcare_Service_Requests_SchemaAligned.pdf', 'total_pages': 4, 'page': 1, 'page_label': '2'}, page_content=\"SR-1010: This is a data update where the task is to 'Update incorrect phone_number for patient_id 1010 in\\nthe Patients table.' The corresponding SQL is: UPDATE Patients SET phone_number = '+91-999999990'\\nWHERE patient_id = 1010;\\nSR-1011: This is a data correction where the task is to 'Correct dob for doctor_id 211 in the Doctors table.'\\nThe corresponding SQL is: UPDATE Doctors SET dob = TO_DATE('1980-01-12', 'YYYY-MM-DD') WHERE\\ndoctor_id = 211;\"),\n",
       " Document(metadata={'producer': 'PyFPDF 1.7.2 http://pyfpdf.googlecode.com/', 'creator': 'PyPDF', 'creationdate': 'D:20250419122146', 'source': 'D:\\\\Interview\\\\SQL-Assistant-Experiments\\\\data\\\\Healthcare_Service_Requests_SchemaAligned.pdf', 'total_pages': 4, 'page': 1, 'page_label': '2'}, page_content=\"doctor_id = 211;\\nSR-1012: This is a report request where the task is to 'Generate a report using data from the Appointments\\ntable for hospital_id 3.' The corresponding SQL is: SELECT * FROM Appointments WHERE hospital_id = 3;\\nSR-1013: This is a data correction where the task is to 'Correct dob for doctor_id 213 in the Doctors table.'\\nThe corresponding SQL is: UPDATE Doctors SET dob = TO_DATE('1980-01-14', 'YYYY-MM-DD') WHERE\\ndoctor_id = 213;\"),\n",
       " Document(metadata={'producer': 'PyFPDF 1.7.2 http://pyfpdf.googlecode.com/', 'creator': 'PyPDF', 'creationdate': 'D:20250419122146', 'source': 'D:\\\\Interview\\\\SQL-Assistant-Experiments\\\\data\\\\Healthcare_Service_Requests_SchemaAligned.pdf', 'total_pages': 4, 'page': 1, 'page_label': '2'}, page_content=\"doctor_id = 213;\\nSR-1014: This is a data update where the task is to 'Update incorrect phone_number for patient_id 1014 in\\nthe Patients table.' The corresponding SQL is: UPDATE Patients SET phone_number = '+91-999999994'\\nWHERE patient_id = 1014;\\nSR-1015: This is a report request where the task is to 'Generate a report using data from the Appointments\\ntable for hospital_id 1.' The corresponding SQL is: SELECT * FROM Appointments WHERE hospital_id = 1;\"),\n",
       " Document(metadata={'producer': 'PyFPDF 1.7.2 http://pyfpdf.googlecode.com/', 'creator': 'PyPDF', 'creationdate': 'D:20250419122146', 'source': 'D:\\\\Interview\\\\SQL-Assistant-Experiments\\\\data\\\\Healthcare_Service_Requests_SchemaAligned.pdf', 'total_pages': 4, 'page': 1, 'page_label': '2'}, page_content=\"SR-1016: This is a data update where the task is to 'Update incorrect phone_number for patient_id 1016 in\\nthe Patients table.' The corresponding SQL is: UPDATE Patients SET phone_number = '+91-999999996'\\nWHERE patient_id = 1016;\\nSR-1017: This is a data correction where the task is to 'Correct dob for doctor_id 217 in the Doctors table.'\\nThe corresponding SQL is: UPDATE Doctors SET dob = TO_DATE('1980-01-18', 'YYYY-MM-DD') WHERE\\ndoctor_id = 217;\"),\n",
       " Document(metadata={'producer': 'PyFPDF 1.7.2 http://pyfpdf.googlecode.com/', 'creator': 'PyPDF', 'creationdate': 'D:20250419122146', 'source': 'D:\\\\Interview\\\\SQL-Assistant-Experiments\\\\data\\\\Healthcare_Service_Requests_SchemaAligned.pdf', 'total_pages': 4, 'page': 1, 'page_label': '2'}, page_content=\"doctor_id = 217;\\nSR-1018: This is a report request where the task is to 'Generate a report using data from the Appointments\\ntable for hospital_id 4.' The corresponding SQL is: SELECT * FROM Appointments WHERE hospital_id = 4;\\nSR-1019: This is a data correction where the task is to 'Correct dob for doctor_id 219 in the Doctors table.'\\nThe corresponding SQL is: UPDATE Doctors SET dob = TO_DATE('1980-01-20', 'YYYY-MM-DD') WHERE\\ndoctor_id = 219;\"),\n",
       " Document(metadata={'producer': 'PyFPDF 1.7.2 http://pyfpdf.googlecode.com/', 'creator': 'PyPDF', 'creationdate': 'D:20250419122146', 'source': 'D:\\\\Interview\\\\SQL-Assistant-Experiments\\\\data\\\\Healthcare_Service_Requests_SchemaAligned.pdf', 'total_pages': 4, 'page': 2, 'page_label': '3'}, page_content=\"SR-1020: This is a data update where the task is to 'Update incorrect phone_number for patient_id 1020 in\\nthe Patients table.' The corresponding SQL is: UPDATE Patients SET phone_number = '+91-999999990'\\nWHERE patient_id = 1020;\\nSR-1021: This is a report request where the task is to 'Generate a report using data from the Appointments\\ntable for hospital_id 2.' The corresponding SQL is: SELECT * FROM Appointments WHERE hospital_id = 2;\"),\n",
       " Document(metadata={'producer': 'PyFPDF 1.7.2 http://pyfpdf.googlecode.com/', 'creator': 'PyPDF', 'creationdate': 'D:20250419122146', 'source': 'D:\\\\Interview\\\\SQL-Assistant-Experiments\\\\data\\\\Healthcare_Service_Requests_SchemaAligned.pdf', 'total_pages': 4, 'page': 2, 'page_label': '3'}, page_content=\"SR-1022: This is a data update where the task is to 'Update incorrect phone_number for patient_id 1022 in\\nthe Patients table.' The corresponding SQL is: UPDATE Patients SET phone_number = '+91-999999992'\\nWHERE patient_id = 1022;\\nSR-1023: This is a data correction where the task is to 'Correct dob for doctor_id 223 in the Doctors table.'\\nThe corresponding SQL is: UPDATE Doctors SET dob = TO_DATE('1980-01-24', 'YYYY-MM-DD') WHERE\\ndoctor_id = 223;\"),\n",
       " Document(metadata={'producer': 'PyFPDF 1.7.2 http://pyfpdf.googlecode.com/', 'creator': 'PyPDF', 'creationdate': 'D:20250419122146', 'source': 'D:\\\\Interview\\\\SQL-Assistant-Experiments\\\\data\\\\Healthcare_Service_Requests_SchemaAligned.pdf', 'total_pages': 4, 'page': 2, 'page_label': '3'}, page_content=\"doctor_id = 223;\\nSR-1024: This is a report request where the task is to 'Generate a report using data from the Appointments\\ntable for hospital_id 5.' The corresponding SQL is: SELECT * FROM Appointments WHERE hospital_id = 5;\\nSR-1025: This is a data correction where the task is to 'Correct dob for doctor_id 225 in the Doctors table.'\\nThe corresponding SQL is: UPDATE Doctors SET dob = TO_DATE('1980-01-26', 'YYYY-MM-DD') WHERE\\ndoctor_id = 225;\"),\n",
       " Document(metadata={'producer': 'PyFPDF 1.7.2 http://pyfpdf.googlecode.com/', 'creator': 'PyPDF', 'creationdate': 'D:20250419122146', 'source': 'D:\\\\Interview\\\\SQL-Assistant-Experiments\\\\data\\\\Healthcare_Service_Requests_SchemaAligned.pdf', 'total_pages': 4, 'page': 2, 'page_label': '3'}, page_content=\"doctor_id = 225;\\nSR-1026: This is a data update where the task is to 'Update incorrect phone_number for patient_id 1026 in\\nthe Patients table.' The corresponding SQL is: UPDATE Patients SET phone_number = '+91-999999996'\\nWHERE patient_id = 1026;\\nSR-1027: This is a report request where the task is to 'Generate a report using data from the Appointments\\ntable for hospital_id 3.' The corresponding SQL is: SELECT * FROM Appointments WHERE hospital_id = 3;\"),\n",
       " Document(metadata={'producer': 'PyFPDF 1.7.2 http://pyfpdf.googlecode.com/', 'creator': 'PyPDF', 'creationdate': 'D:20250419122146', 'source': 'D:\\\\Interview\\\\SQL-Assistant-Experiments\\\\data\\\\Healthcare_Service_Requests_SchemaAligned.pdf', 'total_pages': 4, 'page': 2, 'page_label': '3'}, page_content=\"SR-1028: This is a data update where the task is to 'Update incorrect phone_number for patient_id 1028 in\\nthe Patients table.' The corresponding SQL is: UPDATE Patients SET phone_number = '+91-999999998'\\nWHERE patient_id = 1028;\\nSR-1029: This is a data correction where the task is to 'Correct dob for doctor_id 229 in the Doctors table.'\\nThe corresponding SQL is: UPDATE Doctors SET dob = TO_DATE('1980-01-2', 'YYYY-MM-DD') WHERE\"),\n",
       " Document(metadata={'producer': 'PyFPDF 1.7.2 http://pyfpdf.googlecode.com/', 'creator': 'PyPDF', 'creationdate': 'D:20250419122146', 'source': 'D:\\\\Interview\\\\SQL-Assistant-Experiments\\\\data\\\\Healthcare_Service_Requests_SchemaAligned.pdf', 'total_pages': 4, 'page': 3, 'page_label': '4'}, page_content=\"doctor_id = 229;\\nSR-1030: This is a report request where the task is to 'Generate a report using data from the Appointments\\ntable for hospital_id 1.' The corresponding SQL is: SELECT * FROM Appointments WHERE hospital_id = 1;\")]"
      ]
     },
     "execution_count": 6,
     "metadata": {},
     "output_type": "execute_result"
    }
   ],
   "source": [
    "documents"
   ]
  },
  {
   "cell_type": "code",
   "execution_count": 6,
   "id": "357e35b2",
   "metadata": {},
   "outputs": [
    {
     "name": "stderr",
     "output_type": "stream",
     "text": [
      "d:\\Interview\\inv\\lib\\site-packages\\tqdm\\auto.py:21: TqdmWarning: IProgress not found. Please update jupyter and ipywidgets. See https://ipywidgets.readthedocs.io/en/stable/user_install.html\n",
      "  from .autonotebook import tqdm as notebook_tqdm\n"
     ]
    }
   ],
   "source": [
    "from langchain_huggingface import HuggingFaceEmbeddings\n",
    "embeddings=HuggingFaceEmbeddings(model_name=\"all-MiniLM-L6-v2\")"
   ]
  },
  {
   "cell_type": "code",
   "execution_count": 10,
   "id": "6420e0ba",
   "metadata": {},
   "outputs": [],
   "source": [
    "import os\n",
    "from dotenv import load_dotenv\n",
    "load_dotenv()\n",
    "\n",
    "os.environ['PINECONE_API_KEY']=os.getenv('PINECONE_API_KEY')"
   ]
  },
  {
   "cell_type": "code",
   "execution_count": null,
   "id": "74075b25",
   "metadata": {},
   "outputs": [],
   "source": [
    "# from langchain_pinecone import PineconeVectorStore\n",
    "# Only run once - so i am commenting it as it ran already ad index is created in pinecode vectorstore\n",
    "# vectorstore=PineconeVectorStore.from_documents(documents=documents, embedding=embeddings, index_name=\"sql-assistant\")"
   ]
  },
  {
   "cell_type": "code",
   "execution_count": 23,
   "id": "6fdb2239",
   "metadata": {},
   "outputs": [
    {
     "data": {
      "text/plain": [
       "['hybrif-search-langchain-pinecone', 'sql-assistant']"
      ]
     },
     "execution_count": 23,
     "metadata": {},
     "output_type": "execute_result"
    }
   ],
   "source": [
    "from pinecone import Pinecone\n",
    "pc=Pinecone()\n",
    "\n",
    "pc.list_indexes().names()"
   ]
  },
  {
   "cell_type": "code",
   "execution_count": 27,
   "id": "5b3f3156",
   "metadata": {},
   "outputs": [],
   "source": [
    "index_name=\"sql-assistant\""
   ]
  },
  {
   "cell_type": "code",
   "execution_count": 32,
   "id": "30b05138",
   "metadata": {},
   "outputs": [],
   "source": [
    "from langchain_pinecone import PineconeVectorStore"
   ]
  },
  {
   "cell_type": "code",
   "execution_count": 30,
   "id": "d3740df2",
   "metadata": {},
   "outputs": [
    {
     "name": "stdout",
     "output_type": "stream",
     "text": [
      "sql-assistant is present\n"
     ]
    }
   ],
   "source": [
    "if index_name in pc.list_indexes().names():\n",
    "    print(f\"{index_name} is present\")\n",
    "else:\n",
    "    print(f\"{index_name} is not present\")\n",
    "    vectorstore=PineconeVectorStore.from_documents(documents=documents, embedding=embeddings, index_name=index_name)"
   ]
  },
  {
   "cell_type": "code",
   "execution_count": 31,
   "id": "8149ec69",
   "metadata": {},
   "outputs": [
    {
     "data": {
      "text/plain": [
       "<langchain_pinecone.vectorstores.PineconeVectorStore at 0x1a73ffbf3a0>"
      ]
     },
     "execution_count": 31,
     "metadata": {},
     "output_type": "execute_result"
    }
   ],
   "source": [
    "vectorstore"
   ]
  },
  {
   "cell_type": "code",
   "execution_count": null,
   "id": "d929eef1",
   "metadata": {},
   "outputs": [
    {
     "data": {
      "text/plain": [
       "<langchain_community.vectorstores.faiss.FAISS at 0x24d3ac2b2e0>"
      ]
     },
     "execution_count": 8,
     "metadata": {},
     "output_type": "execute_result"
    }
   ],
   "source": [
    "from langchain_community.vectorstores import FAISS\n",
    "vectorstore=FAISS.from_documents(documents=documents, embedding=embeddings)\n",
    "vectorstore"
   ]
  },
  {
   "cell_type": "code",
   "execution_count": 13,
   "id": "77eedae4",
   "metadata": {},
   "outputs": [],
   "source": [
    "retriever=vectorstore.as_retriever()"
   ]
  },
  {
   "cell_type": "code",
   "execution_count": 15,
   "id": "59e5eea3",
   "metadata": {},
   "outputs": [],
   "source": [
    "from langchain.chains import create_retrieval_chain\n",
    "from langchain.chains.combine_documents import create_stuff_documents_chain\n",
    "from langchain.prompts import ChatPromptTemplate"
   ]
  },
  {
   "cell_type": "code",
   "execution_count": 16,
   "id": "34c20825",
   "metadata": {},
   "outputs": [],
   "source": [
    "prompt=ChatPromptTemplate.from_template(\n",
    "    '''\n",
    "You are HDBRA (Healthcare Database Request Assistant), an expert backend database engineer specializing in healthcare IT systems.\n",
    "Your primary responsibility is to process service requests (SRs) from healthcare professionals who need database-level changes or reports that cannot be performed through the user interface.\n",
    "\n",
    "### Database Context:\n",
    "You have access to a comprehensive healthcare database with the following schema:\n",
    "- Doctors (doctor_id, name, gender, email, phone, date_joined, status)\n",
    "- Doctor_Licenses (license_id, doctor_id, license_number, issue_date, expiry_date, issuing_authority)\n",
    "- Specializations (specialization_id, name, description)\n",
    "- Doctor_Specializations (doctor_id, specialization_id, certification_date)\n",
    "- Hospitals (hospital_id, name, address, city, state, contact_number, email)\n",
    "- Departments (dept_id, hospital_id, name, floor, wing, head_doctor_id)\n",
    "- Doctor_Hospital_Assignments (assignment_id, doctor_id, hospital_id, dept_id, start_date, end_date, status)\n",
    "- Patients (patient_id, name, gender, date_of_birth, address, phone, email, blood_group, registration_date)\n",
    "- Appointments (appointment_id, patient_id, doctor_id, hospital_id, dept_id, appointment_date, status, notes)\n",
    "\n",
    "### Your task:\n",
    "For each service request, provide a professional response with:\n",
    "1. Action Type: Categorize the request (Update, Correction, Assignment, Report, Data Integrity)\n",
    "2. Target Table(s): Identify the primary tables affected by the request\n",
    "3. SQL Solution: Generate the precise SQL query or stored procedure to fulfill the request\n",
    "4. Explanation: Provide a clear, concise explanation of what the SQL does and any considerations\n",
    "\n",
    "### Rules:\n",
    "- Carefully check if the request involves ONLY entities (tables, columns, and record types) that are explicitly listed in the Database Context above.\n",
    "- Be flexible with common formatting variations (e.g., 'hospital ID' should be understood as referring to 'hospital_id').\n",
    "- Understand that tables may be related to each other (e.g., patients are connected to hospitals through the Appointments table).\n",
    "- If the request mentions ANY entity that does not exist in the schema (like 'kids', 'government officer', 'employee', 'insurance'), respond with this exact message: \"ERROR: The request mentions entities that do not exist in the database schema. Please verify your request and try again.\"\n",
    "- Do not try to interpret non-existent entities as existing ones (e.g., don't interpret 'kids' as 'doctors' or 'patients').\n",
    "\n",
    "Example of incorrect request: \"Update the government officer number for patient ID 1042 to +91-8885544332\"\n",
    "Correct response: \"ERROR: The request mentions entities that do not exist in the database schema. Please verify your request and try again.\"\n",
    "\n",
    "Example of incorrect request: \"List all kids specialized in Neurology currently assigned to hospital ID 3\"\n",
    "Correct response: \"ERROR: The request mentions entities that do not exist in the database schema. Please verify your request and try again.\"\n",
    "\n",
    "Example of correct request: \"Update the phone number for patient ID 1042 to +91-8885544332\"\n",
    "This is valid because 'phone' is a column in the Patients table.\n",
    "\n",
    "Example of correct request: \"List all doctors specialized in Neurology currently assigned to hospital ID 3\"\n",
    "This is valid because it refers to entities that exist in the schema: 'doctors', 'specialized' (Specializations), and 'hospital_id'.\n",
    "\n",
    "Example of correct request: \"Get the number of patients registered in hospital ID 5 last month\"\n",
    "This is valid because it refers to 'hospital_id' in the Hospitals table and 'registration_date' in the Patients table, which can be joined through the Appointments table.\n",
    "\n",
    "Always prioritize data integrity and follow healthcare data handling best practices. For updates to critical fields, include appropriate WHERE clauses to ensure precise targeting.\n",
    "\n",
    "{context}\n",
    "### Service Request:\n",
    "{input}\n",
    "\n",
    "### Response:\n",
    "[If the request mentions ANY entity that does not exist in the database schema, respond ONLY with the error message: \"ERROR: The request mentions entities that do not exist in the database schema. Please verify your request and try again.\"]\n",
    "\n",
    "[For all valid requests that only reference entities in the schema (with allowance for formatting variations like 'hospital ID' for 'hospital_id'), provide the following information:]\n",
    "Action Type:\n",
    "Target Table(s):\n",
    "SQL Solution:\n",
    "sql\n",
    "-- SQL query here\n",
    "\n",
    "Explanation:\n",
    "'''\n",
    ")"
   ]
  },
  {
   "cell_type": "code",
   "execution_count": null,
   "id": "d5dc27a1",
   "metadata": {},
   "outputs": [],
   "source": [
    "# prompt=ChatPromptTemplate.from_template(\n",
    "#     '''\n",
    "# You are HDBRA (Healthcare Database Request Assistant), an expert backend database engineer specializing in healthcare IT systems.\n",
    "# Your primary responsibility is to process service requests (SRs) from healthcare professionals who need database-level changes or reports that cannot be performed through the user interface.\n",
    "\n",
    "# ### Database Context:\n",
    "# You have access to a comprehensive healthcare database with the following schema:\n",
    "# - Doctors (doctor_id, name, gender, email, phone, date_joined, status)\n",
    "# - Doctor_Licenses (license_id, doctor_id, license_number, issue_date, expiry_date, issuing_authority)\n",
    "# - Specializations (specialization_id, name, description)\n",
    "# - Doctor_Specializations (doctor_id, specialization_id, certification_date)\n",
    "# - Hospitals (hospital_id, name, address, city, state, contact_number, email)\n",
    "# - Departments (dept_id, hospital_id, name, floor, wing, head_doctor_id)\n",
    "# - Doctor_Hospital_Assignments (assignment_id, doctor_id, hospital_id, dept_id, start_date, end_date, status)\n",
    "# - Patients (patient_id, name, gender, date_of_birth, address, phone, email, blood_group, registration_date)\n",
    "# - Appointments (appointment_id, patient_id, doctor_id, hospital_id, dept_id, appointment_date, status, notes)\n",
    "\n",
    "# ### Your task:\n",
    "# For each service request, provide a professional response with:\n",
    "# 1. Action Type: Categorize the request (Update, Correction, Assignment, Report, Data Integrity)\n",
    "# 2. Target Table(s): Identify the primary tables affected by the request\n",
    "# 3. SQL Solution: Generate the precise SQL query or stored procedure to fulfill the request\n",
    "# 4. Explanation: Provide a clear, concise explanation of what the SQL does and any considerations\n",
    "\n",
    "# ### Rules:\n",
    "# - Only respond to service requests that exactly matches tables and columns listed in Database Context.\n",
    "# - If the request refers to any unknown table or column, then dont reply.\n",
    "# - Do NOT guess or assume any mappings. Only respond if the input clearly matches the schema.\n",
    "\n",
    "\n",
    "# Always prioritize data integrity and follow healthcare data handling best practices. For updates to critical fields, include appropriate WHERE clauses to ensure precise targeting.\n",
    "\n",
    "# {context}\n",
    "# ### Service Request:\n",
    "# {input}\n",
    "\n",
    "# ### Response:\n",
    "# Action Type: \n",
    "# Target Table(s): \n",
    "# SQL Solution:\n",
    "# sql\n",
    "# -- SQL query here\n",
    "\n",
    "# Explanation: \n",
    "# '''\n",
    "# )"
   ]
  },
  {
   "cell_type": "code",
   "execution_count": 17,
   "id": "5b555085",
   "metadata": {},
   "outputs": [],
   "source": [
    "from langchain_google_genai import ChatGoogleGenerativeAI\n",
    "import os\n",
    "from dotenv import load_dotenv\n",
    "load_dotenv()\n",
    "llm=ChatGoogleGenerativeAI(model=\"gemini-2.0-flash\",api_key=os.getenv(\"GEMINI_API_KEY\"))"
   ]
  },
  {
   "cell_type": "code",
   "execution_count": 18,
   "id": "13544702",
   "metadata": {},
   "outputs": [],
   "source": [
    "document_chain=create_stuff_documents_chain(llm=llm,prompt=prompt)\n",
    "retrieval_chain=create_retrieval_chain(retriever,document_chain)"
   ]
  },
  {
   "cell_type": "code",
   "execution_count": null,
   "id": "9848466d",
   "metadata": {},
   "outputs": [
    {
     "data": {
      "text/plain": [
       "'ERROR: The request mentions entities that do not exist in the database schema. Please verify your request and try again.'"
      ]
     },
     "execution_count": 37,
     "metadata": {},
     "output_type": "execute_result"
    }
   ],
   "source": [
    "response=retrieval_chain.invoke({\n",
    "\"input\":\"Update the phone number for patient ID 1042 to +91-8885544332\"\n",
    "})\n",
    "response['answer']"
   ]
  },
  {
   "cell_type": "code",
   "execution_count": null,
   "id": "7288858f",
   "metadata": {},
   "outputs": [],
   "source": [
    "# response=retrieval_chain.invoke(\n",
    "#     {\"input\":\"Update all phone numbers starting with 99999 to 88888 in the Patients table. List all departments on the 3rd floor in hospital ID 2. Show all appointments scheduled for next week across all hospitals\"}\n",
    "# )"
   ]
  },
  {
   "cell_type": "code",
   "execution_count": null,
   "id": "de352512",
   "metadata": {},
   "outputs": [
    {
     "data": {
      "text/plain": [
       "\"```sql\\nUPDATE Patients SET phone_number = REPLACE(phone_number, '99999', '88888') WHERE phone_number LIKE '99999%';\\nSELECT department_name FROM Departments WHERE floor_number = 3 AND hospital_id = 2;\\nSELECT * FROM Appointments WHERE appointment_date BETWEEN TRUNC(SYSDATE + 7) AND TRUNC(SYSDATE + 14);\\n```\\n\\n*Explanation:*\\n```\\nThe first query updates the phone numbers in the Patients table, replacing the '99999' prefix with '88888' where applicable.\\nThe second query retrieves the names of departments located on the 3rd floor of the hospital with hospital_id 2.\\nThe third query retrieves all appointments scheduled for the next 7 days.\\n```\\n\\n*Action Type:* Update, Report\\n*Target Table(s):* Patients, Departments, Appointments\\n*SQL Query:*\\n```sql\\nUPDATE Patients SET phone_number = REPLACE(phone_number, '99999', '88888') WHERE phone_number LIKE '99999%';\\nSELECT department_name FROM Departments WHERE floor_number = 3 AND hospital_id = 2;\\nSELECT * FROM Appointments WHERE appointment_date BETWEEN TRUNC(SYSDATE + 7) AND TRUNC(SYSDATE + 14);\\n```\\n*Explanation:*\\n```\\nThe first query updates the phone numbers in the Patients table, replacing the '99999' prefix with '88888' where applicable.\\nThe second query retrieves the names of departments located on the 3rd floor of the hospital with hospital_id 2.\\nThe third query retrieves all appointments scheduled for the next 7 days.\\n```\""
      ]
     },
     "execution_count": 19,
     "metadata": {},
     "output_type": "execute_result"
    }
   ],
   "source": [
    "# response['answer']"
   ]
  }
 ],
 "metadata": {
  "kernelspec": {
   "display_name": "Python 3",
   "language": "python",
   "name": "python3"
  },
  "language_info": {
   "codemirror_mode": {
    "name": "ipython",
    "version": 3
   },
   "file_extension": ".py",
   "mimetype": "text/x-python",
   "name": "python",
   "nbconvert_exporter": "python",
   "pygments_lexer": "ipython3",
   "version": "3.10.0"
  }
 },
 "nbformat": 4,
 "nbformat_minor": 5
}
