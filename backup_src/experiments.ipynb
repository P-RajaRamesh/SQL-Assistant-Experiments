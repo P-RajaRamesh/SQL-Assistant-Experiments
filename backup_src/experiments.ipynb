{
 "cells": [
  {
   "cell_type": "code",
   "execution_count": 1,
   "id": "2a913b10",
   "metadata": {},
   "outputs": [],
   "source": [
    "from langchain_community.document_loaders import PyPDFDirectoryLoader"
   ]
  },
  {
   "cell_type": "code",
   "execution_count": 2,
   "id": "b5132fb3",
   "metadata": {},
   "outputs": [
    {
     "data": {
      "text/plain": [
       "[Document(metadata={'producer': 'PyFPDF 1.7.2 http://pyfpdf.googlecode.com/', 'creator': 'PyPDF', 'creationdate': 'D:20250419123113', 'title': 'Healthcare Schema with SQL', 'source': 'D:\\\\Interview\\\\SQL-Assistant-Experiments\\\\data\\\\Healthcare_Combined_Schema_final.pdf', 'total_pages': 3, 'page': 0, 'page_label': '1'}, page_content='Table: Doctors\\nThe Doctors table stores information about healthcare professionals. Each doctor has a unique ID, along with\\npersonal details such as first name, last name, date of birth, gender, contact number, and email address.\\nCREATE TABLE Doctors (\\n    doctor_id INT PRIMARY KEY,\\n    first_name VARCHAR(50),\\n    last_name VARCHAR(50),\\n    dob DATE,\\n    gender VARCHAR(10),\\n    phone_number VARCHAR(15),\\n    email VARCHAR(100)\\n);\\nTable: Doctor_Licenses\\nThe Doctor_Licenses table records licensing information for each doctor. It includes a unique license ID, the\\nassociated doctor ID, license number, issue and expiry dates, and the name of the issuing authority.\\nCREATE TABLE Doctor_Licenses (\\n    license_id INT PRIMARY KEY,\\n    doctor_id INT,\\n    license_number VARCHAR(50),\\n    issue_date DATE,\\n    expiry_date DATE,\\n    issuing_authority VARCHAR(100),\\n    FOREIGN KEY (doctor_id) REFERENCES Doctors(doctor_id)\\n);\\nTable: Specializations\\nThe Specializations table contains a list of medical specialization areas such as Cardiology or Neurology.\\nEach entry includes a unique specialization ID, a name, and a description.\\nCREATE TABLE Specializations (\\n    specialization_id INT PRIMARY KEY,\\n    name VARCHAR(100),\\n    description TEXT\\n);\\nTable: Doctor_Specializations\\nThe Doctor_Specializations table defines a many-to-many relationship between doctors and their\\nspecializations using doctor IDs and specialization IDs.\\nCREATE TABLE Doctor_Specializations (\\n    doctor_id INT,\\n    specialization_id INT,'),\n",
       " Document(metadata={'producer': 'PyFPDF 1.7.2 http://pyfpdf.googlecode.com/', 'creator': 'PyPDF', 'creationdate': 'D:20250419123113', 'title': 'Healthcare Schema with SQL', 'source': 'D:\\\\Interview\\\\SQL-Assistant-Experiments\\\\data\\\\Healthcare_Combined_Schema_final.pdf', 'total_pages': 3, 'page': 1, 'page_label': '2'}, page_content='PRIMARY KEY (doctor_id, specialization_id),\\n    FOREIGN KEY (doctor_id) REFERENCES Doctors(doctor_id),\\n    FOREIGN KEY (specialization_id) REFERENCES Specializations(specialization_id)\\n);\\nTable: Hospitals\\nThe Hospitals table keeps track of different hospital entities. It includes a unique hospital ID, name, address,\\ncontact number, and website URL.\\nCREATE TABLE Hospitals (\\n    hospital_id INT PRIMARY KEY,\\n    name VARCHAR(100),\\n    address TEXT,\\n    phone_number VARCHAR(15),\\n    website_url VARCHAR(100)\\n);\\nTable: Departments\\nThe Departments table represents various departments within hospitals. Each department has a unique ID\\nand is linked to a hospital. It also includes the department name and the floor number it is located on.\\nCREATE TABLE Departments (\\n    department_id INT PRIMARY KEY,\\n    hospital_id INT,\\n    name VARCHAR(100),\\n    floor_number INT,\\n    FOREIGN KEY (hospital_id) REFERENCES Hospitals(hospital_id)\\n);\\nTable: Doctor_Hospital_Assignments\\nThis table manages the relationship between doctors and the hospitals they work in. It stores the doctor ID,\\nhospital ID, department ID, and the start and end dates of the assignment.\\nCREATE TABLE Doctor_Hospital_Assignments (\\n    doctor_id INT,\\n    hospital_id INT,\\n    department_id INT,\\n    start_date DATE,\\n    end_date DATE,\\n    PRIMARY KEY (doctor_id, hospital_id, department_id),\\n    FOREIGN KEY (doctor_id) REFERENCES Doctors(doctor_id),\\n    FOREIGN KEY (hospital_id) REFERENCES Hospitals(hospital_id),\\n    FOREIGN KEY (department_id) REFERENCES Departments(department_id)\\n);'),\n",
       " Document(metadata={'producer': 'PyFPDF 1.7.2 http://pyfpdf.googlecode.com/', 'creator': 'PyPDF', 'creationdate': 'D:20250419123113', 'title': 'Healthcare Schema with SQL', 'source': 'D:\\\\Interview\\\\SQL-Assistant-Experiments\\\\data\\\\Healthcare_Combined_Schema_final.pdf', 'total_pages': 3, 'page': 2, 'page_label': '3'}, page_content='Table: Patients\\nThe Patients table stores personal details of patients including a unique patient ID, name, date of birth,\\ngender, contact number, and email address.\\nCREATE TABLE Patients (\\n    patient_id INT PRIMARY KEY,\\n    first_name VARCHAR(50),\\n    last_name VARCHAR(50),\\n    dob DATE,\\n    gender VARCHAR(10),\\n    contact_number VARCHAR(15),\\n    email VARCHAR(100)\\n);\\nTable: Appointments\\nThe Appointments table logs each appointment scheduled between a doctor and a patient. It includes\\nappointment ID, doctor ID, patient ID, hospital ID, date and time of the appointment, reason for visit, and\\nappointment status.\\nCREATE TABLE Appointments (\\n    appointment_id INT PRIMARY KEY,\\n    doctor_id INT,\\n    patient_id INT,\\n    hospital_id INT,\\n    appointment_date DATETIME,\\n    reason TEXT,\\n    status VARCHAR(20),\\n    FOREIGN KEY (doctor_id) REFERENCES Doctors(doctor_id),\\n    FOREIGN KEY (patient_id) REFERENCES Patients(patient_id),\\n    FOREIGN KEY (hospital_id) REFERENCES Hospitals(hospital_id)\\n);'),\n",
       " Document(metadata={'producer': 'PyFPDF 1.7.2 http://pyfpdf.googlecode.com/', 'creator': 'PyPDF', 'creationdate': 'D:20250419122146', 'source': 'D:\\\\Interview\\\\SQL-Assistant-Experiments\\\\data\\\\Healthcare_Service_Requests_SchemaAligned.pdf', 'total_pages': 4, 'page': 0, 'page_label': '1'}, page_content=\"Healthcare Service Requests - Backend SQL Updates (Schema-Aligned)\\nSR-1001: This is a data correction where the task is to 'Correct dob for doctor_id 201 in the Doctors table.'\\nThe corresponding SQL is: UPDATE Doctors SET dob = TO_DATE('1980-01-2', 'YYYY-MM-DD') WHERE\\ndoctor_id = 201;\\nSR-1002: This is a data update where the task is to 'Update incorrect phone_number for patient_id 1002 in\\nthe Patients table.' The corresponding SQL is: UPDATE Patients SET phone_number = '+91-999999992'\\nWHERE patient_id = 1002;\\nSR-1003: This is a report request where the task is to 'Generate a report using data from the Appointments\\ntable for hospital_id 4.' The corresponding SQL is: SELECT * FROM Appointments WHERE hospital_id = 4;\\nSR-1004: This is a data update where the task is to 'Update incorrect phone_number for patient_id 1004 in\\nthe Patients table.' The corresponding SQL is: UPDATE Patients SET phone_number = '+91-999999994'\\nWHERE patient_id = 1004;\\nSR-1005: This is a data correction where the task is to 'Correct dob for doctor_id 205 in the Doctors table.'\\nThe corresponding SQL is: UPDATE Doctors SET dob = TO_DATE('1980-01-6', 'YYYY-MM-DD') WHERE\\ndoctor_id = 205;\\nSR-1006: This is a report request where the task is to 'Generate a report using data from the Appointments\\ntable for hospital_id 2.' The corresponding SQL is: SELECT * FROM Appointments WHERE hospital_id = 2;\\nSR-1007: This is a data correction where the task is to 'Correct dob for doctor_id 207 in the Doctors table.'\\nThe corresponding SQL is: UPDATE Doctors SET dob = TO_DATE('1980-01-8', 'YYYY-MM-DD') WHERE\\ndoctor_id = 207;\\nSR-1008: This is a data update where the task is to 'Update incorrect phone_number for patient_id 1008 in\\nthe Patients table.' The corresponding SQL is: UPDATE Patients SET phone_number = '+91-999999998'\\nWHERE patient_id = 1008;\\nSR-1009: This is a report request where the task is to 'Generate a report using data from the Appointments\\ntable for hospital_id 5.' The corresponding SQL is: SELECT * FROM Appointments WHERE hospital_id = 5;\"),\n",
       " Document(metadata={'producer': 'PyFPDF 1.7.2 http://pyfpdf.googlecode.com/', 'creator': 'PyPDF', 'creationdate': 'D:20250419122146', 'source': 'D:\\\\Interview\\\\SQL-Assistant-Experiments\\\\data\\\\Healthcare_Service_Requests_SchemaAligned.pdf', 'total_pages': 4, 'page': 1, 'page_label': '2'}, page_content=\"SR-1010: This is a data update where the task is to 'Update incorrect phone_number for patient_id 1010 in\\nthe Patients table.' The corresponding SQL is: UPDATE Patients SET phone_number = '+91-999999990'\\nWHERE patient_id = 1010;\\nSR-1011: This is a data correction where the task is to 'Correct dob for doctor_id 211 in the Doctors table.'\\nThe corresponding SQL is: UPDATE Doctors SET dob = TO_DATE('1980-01-12', 'YYYY-MM-DD') WHERE\\ndoctor_id = 211;\\nSR-1012: This is a report request where the task is to 'Generate a report using data from the Appointments\\ntable for hospital_id 3.' The corresponding SQL is: SELECT * FROM Appointments WHERE hospital_id = 3;\\nSR-1013: This is a data correction where the task is to 'Correct dob for doctor_id 213 in the Doctors table.'\\nThe corresponding SQL is: UPDATE Doctors SET dob = TO_DATE('1980-01-14', 'YYYY-MM-DD') WHERE\\ndoctor_id = 213;\\nSR-1014: This is a data update where the task is to 'Update incorrect phone_number for patient_id 1014 in\\nthe Patients table.' The corresponding SQL is: UPDATE Patients SET phone_number = '+91-999999994'\\nWHERE patient_id = 1014;\\nSR-1015: This is a report request where the task is to 'Generate a report using data from the Appointments\\ntable for hospital_id 1.' The corresponding SQL is: SELECT * FROM Appointments WHERE hospital_id = 1;\\nSR-1016: This is a data update where the task is to 'Update incorrect phone_number for patient_id 1016 in\\nthe Patients table.' The corresponding SQL is: UPDATE Patients SET phone_number = '+91-999999996'\\nWHERE patient_id = 1016;\\nSR-1017: This is a data correction where the task is to 'Correct dob for doctor_id 217 in the Doctors table.'\\nThe corresponding SQL is: UPDATE Doctors SET dob = TO_DATE('1980-01-18', 'YYYY-MM-DD') WHERE\\ndoctor_id = 217;\\nSR-1018: This is a report request where the task is to 'Generate a report using data from the Appointments\\ntable for hospital_id 4.' The corresponding SQL is: SELECT * FROM Appointments WHERE hospital_id = 4;\\nSR-1019: This is a data correction where the task is to 'Correct dob for doctor_id 219 in the Doctors table.'\\nThe corresponding SQL is: UPDATE Doctors SET dob = TO_DATE('1980-01-20', 'YYYY-MM-DD') WHERE\\ndoctor_id = 219;\"),\n",
       " Document(metadata={'producer': 'PyFPDF 1.7.2 http://pyfpdf.googlecode.com/', 'creator': 'PyPDF', 'creationdate': 'D:20250419122146', 'source': 'D:\\\\Interview\\\\SQL-Assistant-Experiments\\\\data\\\\Healthcare_Service_Requests_SchemaAligned.pdf', 'total_pages': 4, 'page': 2, 'page_label': '3'}, page_content=\"SR-1020: This is a data update where the task is to 'Update incorrect phone_number for patient_id 1020 in\\nthe Patients table.' The corresponding SQL is: UPDATE Patients SET phone_number = '+91-999999990'\\nWHERE patient_id = 1020;\\nSR-1021: This is a report request where the task is to 'Generate a report using data from the Appointments\\ntable for hospital_id 2.' The corresponding SQL is: SELECT * FROM Appointments WHERE hospital_id = 2;\\nSR-1022: This is a data update where the task is to 'Update incorrect phone_number for patient_id 1022 in\\nthe Patients table.' The corresponding SQL is: UPDATE Patients SET phone_number = '+91-999999992'\\nWHERE patient_id = 1022;\\nSR-1023: This is a data correction where the task is to 'Correct dob for doctor_id 223 in the Doctors table.'\\nThe corresponding SQL is: UPDATE Doctors SET dob = TO_DATE('1980-01-24', 'YYYY-MM-DD') WHERE\\ndoctor_id = 223;\\nSR-1024: This is a report request where the task is to 'Generate a report using data from the Appointments\\ntable for hospital_id 5.' The corresponding SQL is: SELECT * FROM Appointments WHERE hospital_id = 5;\\nSR-1025: This is a data correction where the task is to 'Correct dob for doctor_id 225 in the Doctors table.'\\nThe corresponding SQL is: UPDATE Doctors SET dob = TO_DATE('1980-01-26', 'YYYY-MM-DD') WHERE\\ndoctor_id = 225;\\nSR-1026: This is a data update where the task is to 'Update incorrect phone_number for patient_id 1026 in\\nthe Patients table.' The corresponding SQL is: UPDATE Patients SET phone_number = '+91-999999996'\\nWHERE patient_id = 1026;\\nSR-1027: This is a report request where the task is to 'Generate a report using data from the Appointments\\ntable for hospital_id 3.' The corresponding SQL is: SELECT * FROM Appointments WHERE hospital_id = 3;\\nSR-1028: This is a data update where the task is to 'Update incorrect phone_number for patient_id 1028 in\\nthe Patients table.' The corresponding SQL is: UPDATE Patients SET phone_number = '+91-999999998'\\nWHERE patient_id = 1028;\\nSR-1029: This is a data correction where the task is to 'Correct dob for doctor_id 229 in the Doctors table.'\\nThe corresponding SQL is: UPDATE Doctors SET dob = TO_DATE('1980-01-2', 'YYYY-MM-DD') WHERE\"),\n",
       " Document(metadata={'producer': 'PyFPDF 1.7.2 http://pyfpdf.googlecode.com/', 'creator': 'PyPDF', 'creationdate': 'D:20250419122146', 'source': 'D:\\\\Interview\\\\SQL-Assistant-Experiments\\\\data\\\\Healthcare_Service_Requests_SchemaAligned.pdf', 'total_pages': 4, 'page': 3, 'page_label': '4'}, page_content=\"doctor_id = 229;\\nSR-1030: This is a report request where the task is to 'Generate a report using data from the Appointments\\ntable for hospital_id 1.' The corresponding SQL is: SELECT * FROM Appointments WHERE hospital_id = 1;\")]"
      ]
     },
     "execution_count": 2,
     "metadata": {},
     "output_type": "execute_result"
    }
   ],
   "source": [
    "loader=PyPDFDirectoryLoader(\"D:\\Interview\\SQL-Assistant-Experiments\\data\")\n",
    "docs = loader.load()\n",
    "docs"
   ]
  },
  {
   "cell_type": "code",
   "execution_count": 3,
   "id": "52d7de94",
   "metadata": {},
   "outputs": [],
   "source": [
    "from langchain.text_splitter import RecursiveCharacterTextSplitter\n",
    "text_splitter = RecursiveCharacterTextSplitter(\n",
    "    chunk_size=500,\n",
    "    chunk_overlap=100,\n",
    "    is_separator_regex=False,\n",
    ")"
   ]
  },
  {
   "cell_type": "code",
   "execution_count": 4,
   "id": "b985c8a6",
   "metadata": {},
   "outputs": [],
   "source": [
    "documents=text_splitter.split_documents(docs)"
   ]
  },
  {
   "cell_type": "code",
   "execution_count": 5,
   "id": "47b856ea",
   "metadata": {},
   "outputs": [
    {
     "data": {
      "text/plain": [
       "[Document(metadata={'producer': 'PyFPDF 1.7.2 http://pyfpdf.googlecode.com/', 'creator': 'PyPDF', 'creationdate': 'D:20250419123113', 'title': 'Healthcare Schema with SQL', 'source': 'D:\\\\Interview\\\\SQL-Assistant-Experiments\\\\data\\\\Healthcare_Combined_Schema_final.pdf', 'total_pages': 3, 'page': 0, 'page_label': '1'}, page_content='Table: Doctors\\nThe Doctors table stores information about healthcare professionals. Each doctor has a unique ID, along with\\npersonal details such as first name, last name, date of birth, gender, contact number, and email address.\\nCREATE TABLE Doctors (\\n    doctor_id INT PRIMARY KEY,\\n    first_name VARCHAR(50),\\n    last_name VARCHAR(50),\\n    dob DATE,\\n    gender VARCHAR(10),\\n    phone_number VARCHAR(15),\\n    email VARCHAR(100)\\n);\\nTable: Doctor_Licenses'),\n",
       " Document(metadata={'producer': 'PyFPDF 1.7.2 http://pyfpdf.googlecode.com/', 'creator': 'PyPDF', 'creationdate': 'D:20250419123113', 'title': 'Healthcare Schema with SQL', 'source': 'D:\\\\Interview\\\\SQL-Assistant-Experiments\\\\data\\\\Healthcare_Combined_Schema_final.pdf', 'total_pages': 3, 'page': 0, 'page_label': '1'}, page_content='phone_number VARCHAR(15),\\n    email VARCHAR(100)\\n);\\nTable: Doctor_Licenses\\nThe Doctor_Licenses table records licensing information for each doctor. It includes a unique license ID, the\\nassociated doctor ID, license number, issue and expiry dates, and the name of the issuing authority.\\nCREATE TABLE Doctor_Licenses (\\n    license_id INT PRIMARY KEY,\\n    doctor_id INT,\\n    license_number VARCHAR(50),\\n    issue_date DATE,\\n    expiry_date DATE,\\n    issuing_authority VARCHAR(100),'),\n",
       " Document(metadata={'producer': 'PyFPDF 1.7.2 http://pyfpdf.googlecode.com/', 'creator': 'PyPDF', 'creationdate': 'D:20250419123113', 'title': 'Healthcare Schema with SQL', 'source': 'D:\\\\Interview\\\\SQL-Assistant-Experiments\\\\data\\\\Healthcare_Combined_Schema_final.pdf', 'total_pages': 3, 'page': 0, 'page_label': '1'}, page_content='issue_date DATE,\\n    expiry_date DATE,\\n    issuing_authority VARCHAR(100),\\n    FOREIGN KEY (doctor_id) REFERENCES Doctors(doctor_id)\\n);\\nTable: Specializations\\nThe Specializations table contains a list of medical specialization areas such as Cardiology or Neurology.\\nEach entry includes a unique specialization ID, a name, and a description.\\nCREATE TABLE Specializations (\\n    specialization_id INT PRIMARY KEY,\\n    name VARCHAR(100),\\n    description TEXT\\n);\\nTable: Doctor_Specializations'),\n",
       " Document(metadata={'producer': 'PyFPDF 1.7.2 http://pyfpdf.googlecode.com/', 'creator': 'PyPDF', 'creationdate': 'D:20250419123113', 'title': 'Healthcare Schema with SQL', 'source': 'D:\\\\Interview\\\\SQL-Assistant-Experiments\\\\data\\\\Healthcare_Combined_Schema_final.pdf', 'total_pages': 3, 'page': 0, 'page_label': '1'}, page_content='name VARCHAR(100),\\n    description TEXT\\n);\\nTable: Doctor_Specializations\\nThe Doctor_Specializations table defines a many-to-many relationship between doctors and their\\nspecializations using doctor IDs and specialization IDs.\\nCREATE TABLE Doctor_Specializations (\\n    doctor_id INT,\\n    specialization_id INT,'),\n",
       " Document(metadata={'producer': 'PyFPDF 1.7.2 http://pyfpdf.googlecode.com/', 'creator': 'PyPDF', 'creationdate': 'D:20250419123113', 'title': 'Healthcare Schema with SQL', 'source': 'D:\\\\Interview\\\\SQL-Assistant-Experiments\\\\data\\\\Healthcare_Combined_Schema_final.pdf', 'total_pages': 3, 'page': 1, 'page_label': '2'}, page_content='PRIMARY KEY (doctor_id, specialization_id),\\n    FOREIGN KEY (doctor_id) REFERENCES Doctors(doctor_id),\\n    FOREIGN KEY (specialization_id) REFERENCES Specializations(specialization_id)\\n);\\nTable: Hospitals\\nThe Hospitals table keeps track of different hospital entities. It includes a unique hospital ID, name, address,\\ncontact number, and website URL.\\nCREATE TABLE Hospitals (\\n    hospital_id INT PRIMARY KEY,\\n    name VARCHAR(100),\\n    address TEXT,\\n    phone_number VARCHAR(15),'),\n",
       " Document(metadata={'producer': 'PyFPDF 1.7.2 http://pyfpdf.googlecode.com/', 'creator': 'PyPDF', 'creationdate': 'D:20250419123113', 'title': 'Healthcare Schema with SQL', 'source': 'D:\\\\Interview\\\\SQL-Assistant-Experiments\\\\data\\\\Healthcare_Combined_Schema_final.pdf', 'total_pages': 3, 'page': 1, 'page_label': '2'}, page_content='name VARCHAR(100),\\n    address TEXT,\\n    phone_number VARCHAR(15),\\n    website_url VARCHAR(100)\\n);\\nTable: Departments\\nThe Departments table represents various departments within hospitals. Each department has a unique ID\\nand is linked to a hospital. It also includes the department name and the floor number it is located on.\\nCREATE TABLE Departments (\\n    department_id INT PRIMARY KEY,\\n    hospital_id INT,\\n    name VARCHAR(100),\\n    floor_number INT,'),\n",
       " Document(metadata={'producer': 'PyFPDF 1.7.2 http://pyfpdf.googlecode.com/', 'creator': 'PyPDF', 'creationdate': 'D:20250419123113', 'title': 'Healthcare Schema with SQL', 'source': 'D:\\\\Interview\\\\SQL-Assistant-Experiments\\\\data\\\\Healthcare_Combined_Schema_final.pdf', 'total_pages': 3, 'page': 1, 'page_label': '2'}, page_content='hospital_id INT,\\n    name VARCHAR(100),\\n    floor_number INT,\\n    FOREIGN KEY (hospital_id) REFERENCES Hospitals(hospital_id)\\n);\\nTable: Doctor_Hospital_Assignments\\nThis table manages the relationship between doctors and the hospitals they work in. It stores the doctor ID,\\nhospital ID, department ID, and the start and end dates of the assignment.\\nCREATE TABLE Doctor_Hospital_Assignments (\\n    doctor_id INT,\\n    hospital_id INT,\\n    department_id INT,\\n    start_date DATE,\\n    end_date DATE,'),\n",
       " Document(metadata={'producer': 'PyFPDF 1.7.2 http://pyfpdf.googlecode.com/', 'creator': 'PyPDF', 'creationdate': 'D:20250419123113', 'title': 'Healthcare Schema with SQL', 'source': 'D:\\\\Interview\\\\SQL-Assistant-Experiments\\\\data\\\\Healthcare_Combined_Schema_final.pdf', 'total_pages': 3, 'page': 1, 'page_label': '2'}, page_content='hospital_id INT,\\n    department_id INT,\\n    start_date DATE,\\n    end_date DATE,\\n    PRIMARY KEY (doctor_id, hospital_id, department_id),\\n    FOREIGN KEY (doctor_id) REFERENCES Doctors(doctor_id),\\n    FOREIGN KEY (hospital_id) REFERENCES Hospitals(hospital_id),\\n    FOREIGN KEY (department_id) REFERENCES Departments(department_id)\\n);'),\n",
       " Document(metadata={'producer': 'PyFPDF 1.7.2 http://pyfpdf.googlecode.com/', 'creator': 'PyPDF', 'creationdate': 'D:20250419123113', 'title': 'Healthcare Schema with SQL', 'source': 'D:\\\\Interview\\\\SQL-Assistant-Experiments\\\\data\\\\Healthcare_Combined_Schema_final.pdf', 'total_pages': 3, 'page': 2, 'page_label': '3'}, page_content='Table: Patients\\nThe Patients table stores personal details of patients including a unique patient ID, name, date of birth,\\ngender, contact number, and email address.\\nCREATE TABLE Patients (\\n    patient_id INT PRIMARY KEY,\\n    first_name VARCHAR(50),\\n    last_name VARCHAR(50),\\n    dob DATE,\\n    gender VARCHAR(10),\\n    contact_number VARCHAR(15),\\n    email VARCHAR(100)\\n);\\nTable: Appointments\\nThe Appointments table logs each appointment scheduled between a doctor and a patient. It includes'),\n",
       " Document(metadata={'producer': 'PyFPDF 1.7.2 http://pyfpdf.googlecode.com/', 'creator': 'PyPDF', 'creationdate': 'D:20250419123113', 'title': 'Healthcare Schema with SQL', 'source': 'D:\\\\Interview\\\\SQL-Assistant-Experiments\\\\data\\\\Healthcare_Combined_Schema_final.pdf', 'total_pages': 3, 'page': 2, 'page_label': '3'}, page_content='The Appointments table logs each appointment scheduled between a doctor and a patient. It includes\\nappointment ID, doctor ID, patient ID, hospital ID, date and time of the appointment, reason for visit, and\\nappointment status.\\nCREATE TABLE Appointments (\\n    appointment_id INT PRIMARY KEY,\\n    doctor_id INT,\\n    patient_id INT,\\n    hospital_id INT,\\n    appointment_date DATETIME,\\n    reason TEXT,\\n    status VARCHAR(20),\\n    FOREIGN KEY (doctor_id) REFERENCES Doctors(doctor_id),'),\n",
       " Document(metadata={'producer': 'PyFPDF 1.7.2 http://pyfpdf.googlecode.com/', 'creator': 'PyPDF', 'creationdate': 'D:20250419123113', 'title': 'Healthcare Schema with SQL', 'source': 'D:\\\\Interview\\\\SQL-Assistant-Experiments\\\\data\\\\Healthcare_Combined_Schema_final.pdf', 'total_pages': 3, 'page': 2, 'page_label': '3'}, page_content='reason TEXT,\\n    status VARCHAR(20),\\n    FOREIGN KEY (doctor_id) REFERENCES Doctors(doctor_id),\\n    FOREIGN KEY (patient_id) REFERENCES Patients(patient_id),\\n    FOREIGN KEY (hospital_id) REFERENCES Hospitals(hospital_id)\\n);'),\n",
       " Document(metadata={'producer': 'PyFPDF 1.7.2 http://pyfpdf.googlecode.com/', 'creator': 'PyPDF', 'creationdate': 'D:20250419122146', 'source': 'D:\\\\Interview\\\\SQL-Assistant-Experiments\\\\data\\\\Healthcare_Service_Requests_SchemaAligned.pdf', 'total_pages': 4, 'page': 0, 'page_label': '1'}, page_content=\"Healthcare Service Requests - Backend SQL Updates (Schema-Aligned)\\nSR-1001: This is a data correction where the task is to 'Correct dob for doctor_id 201 in the Doctors table.'\\nThe corresponding SQL is: UPDATE Doctors SET dob = TO_DATE('1980-01-2', 'YYYY-MM-DD') WHERE\\ndoctor_id = 201;\\nSR-1002: This is a data update where the task is to 'Update incorrect phone_number for patient_id 1002 in\\nthe Patients table.' The corresponding SQL is: UPDATE Patients SET phone_number = '+91-999999992'\"),\n",
       " Document(metadata={'producer': 'PyFPDF 1.7.2 http://pyfpdf.googlecode.com/', 'creator': 'PyPDF', 'creationdate': 'D:20250419122146', 'source': 'D:\\\\Interview\\\\SQL-Assistant-Experiments\\\\data\\\\Healthcare_Service_Requests_SchemaAligned.pdf', 'total_pages': 4, 'page': 0, 'page_label': '1'}, page_content=\"the Patients table.' The corresponding SQL is: UPDATE Patients SET phone_number = '+91-999999992'\\nWHERE patient_id = 1002;\\nSR-1003: This is a report request where the task is to 'Generate a report using data from the Appointments\\ntable for hospital_id 4.' The corresponding SQL is: SELECT * FROM Appointments WHERE hospital_id = 4;\\nSR-1004: This is a data update where the task is to 'Update incorrect phone_number for patient_id 1004 in\"),\n",
       " Document(metadata={'producer': 'PyFPDF 1.7.2 http://pyfpdf.googlecode.com/', 'creator': 'PyPDF', 'creationdate': 'D:20250419122146', 'source': 'D:\\\\Interview\\\\SQL-Assistant-Experiments\\\\data\\\\Healthcare_Service_Requests_SchemaAligned.pdf', 'total_pages': 4, 'page': 0, 'page_label': '1'}, page_content=\"the Patients table.' The corresponding SQL is: UPDATE Patients SET phone_number = '+91-999999994'\\nWHERE patient_id = 1004;\\nSR-1005: This is a data correction where the task is to 'Correct dob for doctor_id 205 in the Doctors table.'\\nThe corresponding SQL is: UPDATE Doctors SET dob = TO_DATE('1980-01-6', 'YYYY-MM-DD') WHERE\\ndoctor_id = 205;\\nSR-1006: This is a report request where the task is to 'Generate a report using data from the Appointments\"),\n",
       " Document(metadata={'producer': 'PyFPDF 1.7.2 http://pyfpdf.googlecode.com/', 'creator': 'PyPDF', 'creationdate': 'D:20250419122146', 'source': 'D:\\\\Interview\\\\SQL-Assistant-Experiments\\\\data\\\\Healthcare_Service_Requests_SchemaAligned.pdf', 'total_pages': 4, 'page': 0, 'page_label': '1'}, page_content=\"table for hospital_id 2.' The corresponding SQL is: SELECT * FROM Appointments WHERE hospital_id = 2;\\nSR-1007: This is a data correction where the task is to 'Correct dob for doctor_id 207 in the Doctors table.'\\nThe corresponding SQL is: UPDATE Doctors SET dob = TO_DATE('1980-01-8', 'YYYY-MM-DD') WHERE\\ndoctor_id = 207;\\nSR-1008: This is a data update where the task is to 'Update incorrect phone_number for patient_id 1008 in\"),\n",
       " Document(metadata={'producer': 'PyFPDF 1.7.2 http://pyfpdf.googlecode.com/', 'creator': 'PyPDF', 'creationdate': 'D:20250419122146', 'source': 'D:\\\\Interview\\\\SQL-Assistant-Experiments\\\\data\\\\Healthcare_Service_Requests_SchemaAligned.pdf', 'total_pages': 4, 'page': 0, 'page_label': '1'}, page_content=\"the Patients table.' The corresponding SQL is: UPDATE Patients SET phone_number = '+91-999999998'\\nWHERE patient_id = 1008;\\nSR-1009: This is a report request where the task is to 'Generate a report using data from the Appointments\\ntable for hospital_id 5.' The corresponding SQL is: SELECT * FROM Appointments WHERE hospital_id = 5;\"),\n",
       " Document(metadata={'producer': 'PyFPDF 1.7.2 http://pyfpdf.googlecode.com/', 'creator': 'PyPDF', 'creationdate': 'D:20250419122146', 'source': 'D:\\\\Interview\\\\SQL-Assistant-Experiments\\\\data\\\\Healthcare_Service_Requests_SchemaAligned.pdf', 'total_pages': 4, 'page': 1, 'page_label': '2'}, page_content=\"SR-1010: This is a data update where the task is to 'Update incorrect phone_number for patient_id 1010 in\\nthe Patients table.' The corresponding SQL is: UPDATE Patients SET phone_number = '+91-999999990'\\nWHERE patient_id = 1010;\\nSR-1011: This is a data correction where the task is to 'Correct dob for doctor_id 211 in the Doctors table.'\\nThe corresponding SQL is: UPDATE Doctors SET dob = TO_DATE('1980-01-12', 'YYYY-MM-DD') WHERE\\ndoctor_id = 211;\"),\n",
       " Document(metadata={'producer': 'PyFPDF 1.7.2 http://pyfpdf.googlecode.com/', 'creator': 'PyPDF', 'creationdate': 'D:20250419122146', 'source': 'D:\\\\Interview\\\\SQL-Assistant-Experiments\\\\data\\\\Healthcare_Service_Requests_SchemaAligned.pdf', 'total_pages': 4, 'page': 1, 'page_label': '2'}, page_content=\"doctor_id = 211;\\nSR-1012: This is a report request where the task is to 'Generate a report using data from the Appointments\\ntable for hospital_id 3.' The corresponding SQL is: SELECT * FROM Appointments WHERE hospital_id = 3;\\nSR-1013: This is a data correction where the task is to 'Correct dob for doctor_id 213 in the Doctors table.'\\nThe corresponding SQL is: UPDATE Doctors SET dob = TO_DATE('1980-01-14', 'YYYY-MM-DD') WHERE\\ndoctor_id = 213;\"),\n",
       " Document(metadata={'producer': 'PyFPDF 1.7.2 http://pyfpdf.googlecode.com/', 'creator': 'PyPDF', 'creationdate': 'D:20250419122146', 'source': 'D:\\\\Interview\\\\SQL-Assistant-Experiments\\\\data\\\\Healthcare_Service_Requests_SchemaAligned.pdf', 'total_pages': 4, 'page': 1, 'page_label': '2'}, page_content=\"doctor_id = 213;\\nSR-1014: This is a data update where the task is to 'Update incorrect phone_number for patient_id 1014 in\\nthe Patients table.' The corresponding SQL is: UPDATE Patients SET phone_number = '+91-999999994'\\nWHERE patient_id = 1014;\\nSR-1015: This is a report request where the task is to 'Generate a report using data from the Appointments\\ntable for hospital_id 1.' The corresponding SQL is: SELECT * FROM Appointments WHERE hospital_id = 1;\"),\n",
       " Document(metadata={'producer': 'PyFPDF 1.7.2 http://pyfpdf.googlecode.com/', 'creator': 'PyPDF', 'creationdate': 'D:20250419122146', 'source': 'D:\\\\Interview\\\\SQL-Assistant-Experiments\\\\data\\\\Healthcare_Service_Requests_SchemaAligned.pdf', 'total_pages': 4, 'page': 1, 'page_label': '2'}, page_content=\"SR-1016: This is a data update where the task is to 'Update incorrect phone_number for patient_id 1016 in\\nthe Patients table.' The corresponding SQL is: UPDATE Patients SET phone_number = '+91-999999996'\\nWHERE patient_id = 1016;\\nSR-1017: This is a data correction where the task is to 'Correct dob for doctor_id 217 in the Doctors table.'\\nThe corresponding SQL is: UPDATE Doctors SET dob = TO_DATE('1980-01-18', 'YYYY-MM-DD') WHERE\\ndoctor_id = 217;\"),\n",
       " Document(metadata={'producer': 'PyFPDF 1.7.2 http://pyfpdf.googlecode.com/', 'creator': 'PyPDF', 'creationdate': 'D:20250419122146', 'source': 'D:\\\\Interview\\\\SQL-Assistant-Experiments\\\\data\\\\Healthcare_Service_Requests_SchemaAligned.pdf', 'total_pages': 4, 'page': 1, 'page_label': '2'}, page_content=\"doctor_id = 217;\\nSR-1018: This is a report request where the task is to 'Generate a report using data from the Appointments\\ntable for hospital_id 4.' The corresponding SQL is: SELECT * FROM Appointments WHERE hospital_id = 4;\\nSR-1019: This is a data correction where the task is to 'Correct dob for doctor_id 219 in the Doctors table.'\\nThe corresponding SQL is: UPDATE Doctors SET dob = TO_DATE('1980-01-20', 'YYYY-MM-DD') WHERE\\ndoctor_id = 219;\"),\n",
       " Document(metadata={'producer': 'PyFPDF 1.7.2 http://pyfpdf.googlecode.com/', 'creator': 'PyPDF', 'creationdate': 'D:20250419122146', 'source': 'D:\\\\Interview\\\\SQL-Assistant-Experiments\\\\data\\\\Healthcare_Service_Requests_SchemaAligned.pdf', 'total_pages': 4, 'page': 2, 'page_label': '3'}, page_content=\"SR-1020: This is a data update where the task is to 'Update incorrect phone_number for patient_id 1020 in\\nthe Patients table.' The corresponding SQL is: UPDATE Patients SET phone_number = '+91-999999990'\\nWHERE patient_id = 1020;\\nSR-1021: This is a report request where the task is to 'Generate a report using data from the Appointments\\ntable for hospital_id 2.' The corresponding SQL is: SELECT * FROM Appointments WHERE hospital_id = 2;\"),\n",
       " Document(metadata={'producer': 'PyFPDF 1.7.2 http://pyfpdf.googlecode.com/', 'creator': 'PyPDF', 'creationdate': 'D:20250419122146', 'source': 'D:\\\\Interview\\\\SQL-Assistant-Experiments\\\\data\\\\Healthcare_Service_Requests_SchemaAligned.pdf', 'total_pages': 4, 'page': 2, 'page_label': '3'}, page_content=\"SR-1022: This is a data update where the task is to 'Update incorrect phone_number for patient_id 1022 in\\nthe Patients table.' The corresponding SQL is: UPDATE Patients SET phone_number = '+91-999999992'\\nWHERE patient_id = 1022;\\nSR-1023: This is a data correction where the task is to 'Correct dob for doctor_id 223 in the Doctors table.'\\nThe corresponding SQL is: UPDATE Doctors SET dob = TO_DATE('1980-01-24', 'YYYY-MM-DD') WHERE\\ndoctor_id = 223;\"),\n",
       " Document(metadata={'producer': 'PyFPDF 1.7.2 http://pyfpdf.googlecode.com/', 'creator': 'PyPDF', 'creationdate': 'D:20250419122146', 'source': 'D:\\\\Interview\\\\SQL-Assistant-Experiments\\\\data\\\\Healthcare_Service_Requests_SchemaAligned.pdf', 'total_pages': 4, 'page': 2, 'page_label': '3'}, page_content=\"doctor_id = 223;\\nSR-1024: This is a report request where the task is to 'Generate a report using data from the Appointments\\ntable for hospital_id 5.' The corresponding SQL is: SELECT * FROM Appointments WHERE hospital_id = 5;\\nSR-1025: This is a data correction where the task is to 'Correct dob for doctor_id 225 in the Doctors table.'\\nThe corresponding SQL is: UPDATE Doctors SET dob = TO_DATE('1980-01-26', 'YYYY-MM-DD') WHERE\\ndoctor_id = 225;\"),\n",
       " Document(metadata={'producer': 'PyFPDF 1.7.2 http://pyfpdf.googlecode.com/', 'creator': 'PyPDF', 'creationdate': 'D:20250419122146', 'source': 'D:\\\\Interview\\\\SQL-Assistant-Experiments\\\\data\\\\Healthcare_Service_Requests_SchemaAligned.pdf', 'total_pages': 4, 'page': 2, 'page_label': '3'}, page_content=\"doctor_id = 225;\\nSR-1026: This is a data update where the task is to 'Update incorrect phone_number for patient_id 1026 in\\nthe Patients table.' The corresponding SQL is: UPDATE Patients SET phone_number = '+91-999999996'\\nWHERE patient_id = 1026;\\nSR-1027: This is a report request where the task is to 'Generate a report using data from the Appointments\\ntable for hospital_id 3.' The corresponding SQL is: SELECT * FROM Appointments WHERE hospital_id = 3;\"),\n",
       " Document(metadata={'producer': 'PyFPDF 1.7.2 http://pyfpdf.googlecode.com/', 'creator': 'PyPDF', 'creationdate': 'D:20250419122146', 'source': 'D:\\\\Interview\\\\SQL-Assistant-Experiments\\\\data\\\\Healthcare_Service_Requests_SchemaAligned.pdf', 'total_pages': 4, 'page': 2, 'page_label': '3'}, page_content=\"SR-1028: This is a data update where the task is to 'Update incorrect phone_number for patient_id 1028 in\\nthe Patients table.' The corresponding SQL is: UPDATE Patients SET phone_number = '+91-999999998'\\nWHERE patient_id = 1028;\\nSR-1029: This is a data correction where the task is to 'Correct dob for doctor_id 229 in the Doctors table.'\\nThe corresponding SQL is: UPDATE Doctors SET dob = TO_DATE('1980-01-2', 'YYYY-MM-DD') WHERE\"),\n",
       " Document(metadata={'producer': 'PyFPDF 1.7.2 http://pyfpdf.googlecode.com/', 'creator': 'PyPDF', 'creationdate': 'D:20250419122146', 'source': 'D:\\\\Interview\\\\SQL-Assistant-Experiments\\\\data\\\\Healthcare_Service_Requests_SchemaAligned.pdf', 'total_pages': 4, 'page': 3, 'page_label': '4'}, page_content=\"doctor_id = 229;\\nSR-1030: This is a report request where the task is to 'Generate a report using data from the Appointments\\ntable for hospital_id 1.' The corresponding SQL is: SELECT * FROM Appointments WHERE hospital_id = 1;\")]"
      ]
     },
     "execution_count": 5,
     "metadata": {},
     "output_type": "execute_result"
    }
   ],
   "source": [
    "documents"
   ]
  },
  {
   "cell_type": "code",
   "execution_count": 7,
   "id": "357e35b2",
   "metadata": {},
   "outputs": [
    {
     "name": "stderr",
     "output_type": "stream",
     "text": [
      "d:\\Interview\\Service-Requests-and-Incidents\\inv\\lib\\site-packages\\tqdm\\auto.py:21: TqdmWarning: IProgress not found. Please update jupyter and ipywidgets. See https://ipywidgets.readthedocs.io/en/stable/user_install.html\n",
      "  from .autonotebook import tqdm as notebook_tqdm\n"
     ]
    }
   ],
   "source": [
    "from langchain_huggingface import HuggingFaceEmbeddings\n",
    "embeddings=HuggingFaceEmbeddings(model_name=\"all-MiniLM-L6-v2\")"
   ]
  },
  {
   "cell_type": "code",
   "execution_count": 8,
   "id": "d929eef1",
   "metadata": {},
   "outputs": [
    {
     "data": {
      "text/plain": [
       "<langchain_community.vectorstores.faiss.FAISS at 0x24d3ac2b2e0>"
      ]
     },
     "execution_count": 8,
     "metadata": {},
     "output_type": "execute_result"
    }
   ],
   "source": [
    "from langchain_community.vectorstores import FAISS\n",
    "vectorstore=FAISS.from_documents(documents=documents, embedding=embeddings)\n",
    "vectorstore"
   ]
  },
  {
   "cell_type": "code",
   "execution_count": 9,
   "id": "77eedae4",
   "metadata": {},
   "outputs": [],
   "source": [
    "retriever=vectorstore.as_retriever()"
   ]
  },
  {
   "cell_type": "code",
   "execution_count": 10,
   "id": "59e5eea3",
   "metadata": {},
   "outputs": [],
   "source": [
    "from langchain.chains import create_retrieval_chain\n",
    "from langchain.chains.combine_documents import create_stuff_documents_chain\n",
    "from langchain.prompts import ChatPromptTemplate"
   ]
  },
  {
   "cell_type": "code",
   "execution_count": 14,
   "id": "d5dc27a1",
   "metadata": {},
   "outputs": [],
   "source": [
    "prompt=ChatPromptTemplate.from_template(\n",
    "    '''\n",
    "You are an expert backend database engineer working in a healthcare IT system. \n",
    "Your role is to process service requests (SRs) raised by users who are unable to make changes from the UI or need reports for decision-making.\n",
    "\n",
    "These requests relate to backend database operations such as:\n",
    "- Correcting wrong data entries (e.g., date of birth, phone number, name)\n",
    "- Updating missing or outdated values\n",
    "- Generating reports or summaries from existing data\n",
    "- Assigning entities (e.g., doctors to hospitals)\n",
    "- Reviewing logs of appointments or patient records\n",
    "\n",
    "You have full knowledge of the database schema, which includes tables like:\n",
    "- Doctors, Doctor_Licenses, Specializations, Doctor_Specializations\n",
    "- Hospitals, Departments, Doctor_Hospital_Assignments\n",
    "- Patients, Appointments\n",
    "\n",
    "### Your task:\n",
    "Given a natural language service request, understand the user's intent and generate:\n",
    "1. The *Action Type* (e.g., Update, Correction, Report)\n",
    "2. The *Target Table(s)*\n",
    "3. The *SQL Query* or stored procedure to resolve the issue\n",
    "4. A short *explanation* of what the query does\n",
    "\n",
    "Make sure the output is aligned with schema column names and formatted for clarity.\n",
    "\n",
    "---\n",
    "{context}\n",
    "### Input:\n",
    "{input}\n",
    "\n",
    "### Output:\n",
    "*Action Type:*  \n",
    "*Target Table(s):*  \n",
    "*SQL Query:*  \n",
    "```sql\n",
    "-- SQL query here\n",
    "'''\n",
    ")"
   ]
  },
  {
   "cell_type": "code",
   "execution_count": 12,
   "id": "5b555085",
   "metadata": {},
   "outputs": [],
   "source": [
    "from langchain_google_genai import ChatGoogleGenerativeAI\n",
    "import os\n",
    "from dotenv import load_dotenv\n",
    "load_dotenv()\n",
    "llm=ChatGoogleGenerativeAI(model=\"gemini-2.0-flash\",api_key=os.getenv(\"GEMINI_API_KEY\"))"
   ]
  },
  {
   "cell_type": "code",
   "execution_count": 15,
   "id": "13544702",
   "metadata": {},
   "outputs": [],
   "source": [
    "document_chain=create_stuff_documents_chain(llm=llm,prompt=prompt)\n",
    "retrieval_chain=create_retrieval_chain(retriever,document_chain)"
   ]
  },
  {
   "cell_type": "code",
   "execution_count": 18,
   "id": "7288858f",
   "metadata": {},
   "outputs": [],
   "source": [
    "response=retrieval_chain.invoke(\n",
    "    {\"input\":\"Update all phone numbers starting with 99999 to 88888 in the Patients table. List all departments on the 3rd floor in hospital ID 2. Show all appointments scheduled for next week across all hospitals\"}\n",
    ")"
   ]
  },
  {
   "cell_type": "code",
   "execution_count": 19,
   "id": "de352512",
   "metadata": {},
   "outputs": [
    {
     "data": {
      "text/plain": [
       "\"```sql\\nUPDATE Patients SET phone_number = REPLACE(phone_number, '99999', '88888') WHERE phone_number LIKE '99999%';\\nSELECT department_name FROM Departments WHERE floor_number = 3 AND hospital_id = 2;\\nSELECT * FROM Appointments WHERE appointment_date BETWEEN TRUNC(SYSDATE + 7) AND TRUNC(SYSDATE + 14);\\n```\\n\\n*Explanation:*\\n```\\nThe first query updates the phone numbers in the Patients table, replacing the '99999' prefix with '88888' where applicable.\\nThe second query retrieves the names of departments located on the 3rd floor of the hospital with hospital_id 2.\\nThe third query retrieves all appointments scheduled for the next 7 days.\\n```\\n\\n*Action Type:* Update, Report\\n*Target Table(s):* Patients, Departments, Appointments\\n*SQL Query:*\\n```sql\\nUPDATE Patients SET phone_number = REPLACE(phone_number, '99999', '88888') WHERE phone_number LIKE '99999%';\\nSELECT department_name FROM Departments WHERE floor_number = 3 AND hospital_id = 2;\\nSELECT * FROM Appointments WHERE appointment_date BETWEEN TRUNC(SYSDATE + 7) AND TRUNC(SYSDATE + 14);\\n```\\n*Explanation:*\\n```\\nThe first query updates the phone numbers in the Patients table, replacing the '99999' prefix with '88888' where applicable.\\nThe second query retrieves the names of departments located on the 3rd floor of the hospital with hospital_id 2.\\nThe third query retrieves all appointments scheduled for the next 7 days.\\n```\""
      ]
     },
     "execution_count": 19,
     "metadata": {},
     "output_type": "execute_result"
    }
   ],
   "source": [
    "response['answer']"
   ]
  }
 ],
 "metadata": {
  "kernelspec": {
   "display_name": "Python 3",
   "language": "python",
   "name": "python3"
  },
  "language_info": {
   "codemirror_mode": {
    "name": "ipython",
    "version": 3
   },
   "file_extension": ".py",
   "mimetype": "text/x-python",
   "name": "python",
   "nbconvert_exporter": "python",
   "pygments_lexer": "ipython3",
   "version": "3.10.0"
  }
 },
 "nbformat": 4,
 "nbformat_minor": 5
}
